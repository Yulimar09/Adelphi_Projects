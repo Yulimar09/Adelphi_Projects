{
 "cells": [
  {
   "cell_type": "markdown",
   "id": "56a505cb",
   "metadata": {},
   "source": [
    "# Importing Libraries "
   ]
  },
  {
   "cell_type": "code",
   "execution_count": 125,
   "id": "b1128782",
   "metadata": {},
   "outputs": [],
   "source": [
    "import pandas as pd\n",
    "import sklearn \n",
    "import matplotlib.pyplot as plt\n",
    "import numpy as np \n",
    "import seaborn as sns\n",
    "\n",
    "from sklearn.linear_model import Lasso\n",
    "from sklearn.linear_model import Ridge\n",
    "from sklearn.tree import DecisionTreeRegressor\n",
    "from sklearn import tree\n",
    "from sklearn.tree import DecisionTreeRegressor\n",
    "from sklearn.model_selection import train_test_split\n",
    "from sklearn.metrics import mean_squared_error\n",
    "from sklearn.tree import export_graphviz\n",
    "import sklearn.metrics as metrics\n",
    "from io import StringIO  \n",
    "import pydotplus\n"
   ]
  },
  {
   "cell_type": "markdown",
   "id": "0b999782",
   "metadata": {},
   "source": [
    "# Models' Creation with The First DataSet "
   ]
  },
  {
   "cell_type": "markdown",
   "id": "cd2ec3bf",
   "metadata": {},
   "source": [
    "# Loading The Dataset "
   ]
  },
  {
   "cell_type": "code",
   "execution_count": 126,
   "id": "3095f57f",
   "metadata": {},
   "outputs": [
    {
     "data": {
      "text/html": [
       "<div>\n",
       "<style scoped>\n",
       "    .dataframe tbody tr th:only-of-type {\n",
       "        vertical-align: middle;\n",
       "    }\n",
       "\n",
       "    .dataframe tbody tr th {\n",
       "        vertical-align: top;\n",
       "    }\n",
       "\n",
       "    .dataframe thead th {\n",
       "        text-align: right;\n",
       "    }\n",
       "</style>\n",
       "<table border=\"1\" class=\"dataframe\">\n",
       "  <thead>\n",
       "    <tr style=\"text-align: right;\">\n",
       "      <th></th>\n",
       "      <th>Date</th>\n",
       "      <th>P. Income</th>\n",
       "      <th>P. Consumption Exp</th>\n",
       "      <th>Job_Opening</th>\n",
       "      <th>Inflaction</th>\n",
       "      <th>Ind. Prod. Cement and Concrete</th>\n",
       "      <th>Ind. Prod. Total Index</th>\n",
       "      <th>GDP_Construction</th>\n",
       "      <th>All  Employees. Res. Building</th>\n",
       "      <th>New Privately-Owned Housing Units Authorized in Permit</th>\n",
       "      <th>Purchase Only House Price Index</th>\n",
       "      <th>Sales_UND</th>\n",
       "    </tr>\n",
       "  </thead>\n",
       "  <tbody>\n",
       "    <tr>\n",
       "      <th>0</th>\n",
       "      <td>1/1/2017</td>\n",
       "      <td>16485.8</td>\n",
       "      <td>12347.6</td>\n",
       "      <td>161</td>\n",
       "      <td>2.5</td>\n",
       "      <td>82.0004</td>\n",
       "      <td>98.7446</td>\n",
       "      <td>787.6</td>\n",
       "      <td>717.8</td>\n",
       "      <td>1301</td>\n",
       "      <td>234.16</td>\n",
       "      <td>1.018430</td>\n",
       "    </tr>\n",
       "    <tr>\n",
       "      <th>1</th>\n",
       "      <td>2/1/2017</td>\n",
       "      <td>16559.1</td>\n",
       "      <td>12355.4</td>\n",
       "      <td>190</td>\n",
       "      <td>2.7</td>\n",
       "      <td>87.5294</td>\n",
       "      <td>98.3676</td>\n",
       "      <td>787.6</td>\n",
       "      <td>721.3</td>\n",
       "      <td>1240</td>\n",
       "      <td>236.18</td>\n",
       "      <td>1.038805</td>\n",
       "    </tr>\n",
       "    <tr>\n",
       "      <th>2</th>\n",
       "      <td>3/1/2017</td>\n",
       "      <td>16611.2</td>\n",
       "      <td>12413.8</td>\n",
       "      <td>175</td>\n",
       "      <td>2.4</td>\n",
       "      <td>93.9117</td>\n",
       "      <td>99.1065</td>\n",
       "      <td>787.6</td>\n",
       "      <td>723.3</td>\n",
       "      <td>1285</td>\n",
       "      <td>239.91</td>\n",
       "      <td>2.782969</td>\n",
       "    </tr>\n",
       "    <tr>\n",
       "      <th>3</th>\n",
       "      <td>4/1/2017</td>\n",
       "      <td>16666.6</td>\n",
       "      <td>12416.5</td>\n",
       "      <td>207</td>\n",
       "      <td>2.2</td>\n",
       "      <td>98.8599</td>\n",
       "      <td>100.0363</td>\n",
       "      <td>792.1</td>\n",
       "      <td>735.0</td>\n",
       "      <td>1258</td>\n",
       "      <td>243.19</td>\n",
       "      <td>1.311840</td>\n",
       "    </tr>\n",
       "    <tr>\n",
       "      <th>4</th>\n",
       "      <td>5/1/2017</td>\n",
       "      <td>16761.8</td>\n",
       "      <td>12420.9</td>\n",
       "      <td>172</td>\n",
       "      <td>1.9</td>\n",
       "      <td>104.3002</td>\n",
       "      <td>100.1470</td>\n",
       "      <td>792.1</td>\n",
       "      <td>748.1</td>\n",
       "      <td>1209</td>\n",
       "      <td>246.05</td>\n",
       "      <td>1.925150</td>\n",
       "    </tr>\n",
       "  </tbody>\n",
       "</table>\n",
       "</div>"
      ],
      "text/plain": [
       "       Date  P. Income  P. Consumption Exp  Job_Opening  Inflaction  \\\n",
       "0  1/1/2017    16485.8             12347.6          161         2.5   \n",
       "1  2/1/2017    16559.1             12355.4          190         2.7   \n",
       "2  3/1/2017    16611.2             12413.8          175         2.4   \n",
       "3  4/1/2017    16666.6             12416.5          207         2.2   \n",
       "4  5/1/2017    16761.8             12420.9          172         1.9   \n",
       "\n",
       "   Ind. Prod. Cement and Concrete  Ind. Prod. Total Index  GDP_Construction  \\\n",
       "0                         82.0004                 98.7446             787.6   \n",
       "1                         87.5294                 98.3676             787.6   \n",
       "2                         93.9117                 99.1065             787.6   \n",
       "3                         98.8599                100.0363             792.1   \n",
       "4                        104.3002                100.1470             792.1   \n",
       "\n",
       "   All  Employees. Res. Building  \\\n",
       "0                          717.8   \n",
       "1                          721.3   \n",
       "2                          723.3   \n",
       "3                          735.0   \n",
       "4                          748.1   \n",
       "\n",
       "   New Privately-Owned Housing Units Authorized in Permit  \\\n",
       "0                                               1301        \n",
       "1                                               1240        \n",
       "2                                               1285        \n",
       "3                                               1258        \n",
       "4                                               1209        \n",
       "\n",
       "   Purchase Only House Price Index  Sales_UND  \n",
       "0                           234.16   1.018430  \n",
       "1                           236.18   1.038805  \n",
       "2                           239.91   2.782969  \n",
       "3                           243.19   1.311840  \n",
       "4                           246.05   1.925150  "
      ]
     },
     "execution_count": 126,
     "metadata": {},
     "output_type": "execute_result"
    }
   ],
   "source": [
    "dt_features = pd.read_csv('./Features_Selection_Mansfield_Project_1.csv' ,  encoding='latin-1')\n",
    "dt_features.head(5)"
   ]
  },
  {
   "cell_type": "code",
   "execution_count": 127,
   "id": "ea2f7e7b",
   "metadata": {
    "scrolled": true
   },
   "outputs": [
    {
     "data": {
      "text/html": [
       "<div>\n",
       "<style scoped>\n",
       "    .dataframe tbody tr th:only-of-type {\n",
       "        vertical-align: middle;\n",
       "    }\n",
       "\n",
       "    .dataframe tbody tr th {\n",
       "        vertical-align: top;\n",
       "    }\n",
       "\n",
       "    .dataframe thead th {\n",
       "        text-align: right;\n",
       "    }\n",
       "</style>\n",
       "<table border=\"1\" class=\"dataframe\">\n",
       "  <thead>\n",
       "    <tr style=\"text-align: right;\">\n",
       "      <th></th>\n",
       "      <th>P. Income</th>\n",
       "      <th>P. Consumption Exp</th>\n",
       "      <th>Job_Opening</th>\n",
       "      <th>Inflaction</th>\n",
       "      <th>Ind. Prod. Cement and Concrete</th>\n",
       "      <th>Ind. Prod. Total Index</th>\n",
       "      <th>GDP_Construction</th>\n",
       "      <th>All  Employees. Res. Building</th>\n",
       "      <th>New Privately-Owned Housing Units Authorized in Permit</th>\n",
       "      <th>Purchase Only House Price Index</th>\n",
       "      <th>Sales_UND</th>\n",
       "    </tr>\n",
       "    <tr>\n",
       "      <th>Date</th>\n",
       "      <th></th>\n",
       "      <th></th>\n",
       "      <th></th>\n",
       "      <th></th>\n",
       "      <th></th>\n",
       "      <th></th>\n",
       "      <th></th>\n",
       "      <th></th>\n",
       "      <th></th>\n",
       "      <th></th>\n",
       "      <th></th>\n",
       "    </tr>\n",
       "  </thead>\n",
       "  <tbody>\n",
       "    <tr>\n",
       "      <th>2017-01-01</th>\n",
       "      <td>16485.8</td>\n",
       "      <td>12347.6</td>\n",
       "      <td>161</td>\n",
       "      <td>2.5</td>\n",
       "      <td>82.0004</td>\n",
       "      <td>98.7446</td>\n",
       "      <td>787.6</td>\n",
       "      <td>717.8</td>\n",
       "      <td>1301</td>\n",
       "      <td>234.16</td>\n",
       "      <td>1.018430</td>\n",
       "    </tr>\n",
       "    <tr>\n",
       "      <th>2017-02-01</th>\n",
       "      <td>16559.1</td>\n",
       "      <td>12355.4</td>\n",
       "      <td>190</td>\n",
       "      <td>2.7</td>\n",
       "      <td>87.5294</td>\n",
       "      <td>98.3676</td>\n",
       "      <td>787.6</td>\n",
       "      <td>721.3</td>\n",
       "      <td>1240</td>\n",
       "      <td>236.18</td>\n",
       "      <td>1.038805</td>\n",
       "    </tr>\n",
       "    <tr>\n",
       "      <th>2017-03-01</th>\n",
       "      <td>16611.2</td>\n",
       "      <td>12413.8</td>\n",
       "      <td>175</td>\n",
       "      <td>2.4</td>\n",
       "      <td>93.9117</td>\n",
       "      <td>99.1065</td>\n",
       "      <td>787.6</td>\n",
       "      <td>723.3</td>\n",
       "      <td>1285</td>\n",
       "      <td>239.91</td>\n",
       "      <td>2.782969</td>\n",
       "    </tr>\n",
       "    <tr>\n",
       "      <th>2017-04-01</th>\n",
       "      <td>16666.6</td>\n",
       "      <td>12416.5</td>\n",
       "      <td>207</td>\n",
       "      <td>2.2</td>\n",
       "      <td>98.8599</td>\n",
       "      <td>100.0363</td>\n",
       "      <td>792.1</td>\n",
       "      <td>735.0</td>\n",
       "      <td>1258</td>\n",
       "      <td>243.19</td>\n",
       "      <td>1.311840</td>\n",
       "    </tr>\n",
       "    <tr>\n",
       "      <th>2017-05-01</th>\n",
       "      <td>16761.8</td>\n",
       "      <td>12420.9</td>\n",
       "      <td>172</td>\n",
       "      <td>1.9</td>\n",
       "      <td>104.3002</td>\n",
       "      <td>100.1470</td>\n",
       "      <td>792.1</td>\n",
       "      <td>748.1</td>\n",
       "      <td>1209</td>\n",
       "      <td>246.05</td>\n",
       "      <td>1.925150</td>\n",
       "    </tr>\n",
       "  </tbody>\n",
       "</table>\n",
       "</div>"
      ],
      "text/plain": [
       "            P. Income  P. Consumption Exp  Job_Opening  Inflaction  \\\n",
       "Date                                                                 \n",
       "2017-01-01    16485.8             12347.6          161         2.5   \n",
       "2017-02-01    16559.1             12355.4          190         2.7   \n",
       "2017-03-01    16611.2             12413.8          175         2.4   \n",
       "2017-04-01    16666.6             12416.5          207         2.2   \n",
       "2017-05-01    16761.8             12420.9          172         1.9   \n",
       "\n",
       "            Ind. Prod. Cement and Concrete  Ind. Prod. Total Index  \\\n",
       "Date                                                                 \n",
       "2017-01-01                         82.0004                 98.7446   \n",
       "2017-02-01                         87.5294                 98.3676   \n",
       "2017-03-01                         93.9117                 99.1065   \n",
       "2017-04-01                         98.8599                100.0363   \n",
       "2017-05-01                        104.3002                100.1470   \n",
       "\n",
       "            GDP_Construction  All  Employees. Res. Building  \\\n",
       "Date                                                          \n",
       "2017-01-01             787.6                          717.8   \n",
       "2017-02-01             787.6                          721.3   \n",
       "2017-03-01             787.6                          723.3   \n",
       "2017-04-01             792.1                          735.0   \n",
       "2017-05-01             792.1                          748.1   \n",
       "\n",
       "            New Privately-Owned Housing Units Authorized in Permit  \\\n",
       "Date                                                                 \n",
       "2017-01-01                                               1301        \n",
       "2017-02-01                                               1240        \n",
       "2017-03-01                                               1285        \n",
       "2017-04-01                                               1258        \n",
       "2017-05-01                                               1209        \n",
       "\n",
       "            Purchase Only House Price Index  Sales_UND  \n",
       "Date                                                    \n",
       "2017-01-01                           234.16   1.018430  \n",
       "2017-02-01                           236.18   1.038805  \n",
       "2017-03-01                           239.91   2.782969  \n",
       "2017-04-01                           243.19   1.311840  \n",
       "2017-05-01                           246.05   1.925150  "
      ]
     },
     "execution_count": 127,
     "metadata": {},
     "output_type": "execute_result"
    }
   ],
   "source": [
    "dt_features.index = pd.to_datetime(dt_features['Date'])\n",
    "dt_features.drop(\"Date\", axis = 1, inplace = True)\n",
    "dt_features.head(5)"
   ]
  },
  {
   "cell_type": "markdown",
   "id": "3d6e544f",
   "metadata": {},
   "source": [
    "# Dropping 'Sales UND' from the original data"
   ]
  },
  {
   "cell_type": "code",
   "execution_count": 128,
   "id": "84e17cdd",
   "metadata": {
    "scrolled": true
   },
   "outputs": [
    {
     "data": {
      "text/html": [
       "<div>\n",
       "<style scoped>\n",
       "    .dataframe tbody tr th:only-of-type {\n",
       "        vertical-align: middle;\n",
       "    }\n",
       "\n",
       "    .dataframe tbody tr th {\n",
       "        vertical-align: top;\n",
       "    }\n",
       "\n",
       "    .dataframe thead th {\n",
       "        text-align: right;\n",
       "    }\n",
       "</style>\n",
       "<table border=\"1\" class=\"dataframe\">\n",
       "  <thead>\n",
       "    <tr style=\"text-align: right;\">\n",
       "      <th></th>\n",
       "      <th>P. Income</th>\n",
       "      <th>P. Consumption Exp</th>\n",
       "      <th>Job_Opening</th>\n",
       "      <th>Inflaction</th>\n",
       "      <th>Ind. Prod. Cement and Concrete</th>\n",
       "      <th>Ind. Prod. Total Index</th>\n",
       "      <th>GDP_Construction</th>\n",
       "      <th>All  Employees. Res. Building</th>\n",
       "      <th>New Privately-Owned Housing Units Authorized in Permit</th>\n",
       "      <th>Purchase Only House Price Index</th>\n",
       "    </tr>\n",
       "    <tr>\n",
       "      <th>Date</th>\n",
       "      <th></th>\n",
       "      <th></th>\n",
       "      <th></th>\n",
       "      <th></th>\n",
       "      <th></th>\n",
       "      <th></th>\n",
       "      <th></th>\n",
       "      <th></th>\n",
       "      <th></th>\n",
       "      <th></th>\n",
       "    </tr>\n",
       "  </thead>\n",
       "  <tbody>\n",
       "    <tr>\n",
       "      <th>2017-01-01</th>\n",
       "      <td>16485.8</td>\n",
       "      <td>12347.6</td>\n",
       "      <td>161</td>\n",
       "      <td>2.5</td>\n",
       "      <td>82.0004</td>\n",
       "      <td>98.7446</td>\n",
       "      <td>787.6</td>\n",
       "      <td>717.8</td>\n",
       "      <td>1301</td>\n",
       "      <td>234.16</td>\n",
       "    </tr>\n",
       "    <tr>\n",
       "      <th>2017-02-01</th>\n",
       "      <td>16559.1</td>\n",
       "      <td>12355.4</td>\n",
       "      <td>190</td>\n",
       "      <td>2.7</td>\n",
       "      <td>87.5294</td>\n",
       "      <td>98.3676</td>\n",
       "      <td>787.6</td>\n",
       "      <td>721.3</td>\n",
       "      <td>1240</td>\n",
       "      <td>236.18</td>\n",
       "    </tr>\n",
       "    <tr>\n",
       "      <th>2017-03-01</th>\n",
       "      <td>16611.2</td>\n",
       "      <td>12413.8</td>\n",
       "      <td>175</td>\n",
       "      <td>2.4</td>\n",
       "      <td>93.9117</td>\n",
       "      <td>99.1065</td>\n",
       "      <td>787.6</td>\n",
       "      <td>723.3</td>\n",
       "      <td>1285</td>\n",
       "      <td>239.91</td>\n",
       "    </tr>\n",
       "    <tr>\n",
       "      <th>2017-04-01</th>\n",
       "      <td>16666.6</td>\n",
       "      <td>12416.5</td>\n",
       "      <td>207</td>\n",
       "      <td>2.2</td>\n",
       "      <td>98.8599</td>\n",
       "      <td>100.0363</td>\n",
       "      <td>792.1</td>\n",
       "      <td>735.0</td>\n",
       "      <td>1258</td>\n",
       "      <td>243.19</td>\n",
       "    </tr>\n",
       "    <tr>\n",
       "      <th>2017-05-01</th>\n",
       "      <td>16761.8</td>\n",
       "      <td>12420.9</td>\n",
       "      <td>172</td>\n",
       "      <td>1.9</td>\n",
       "      <td>104.3002</td>\n",
       "      <td>100.1470</td>\n",
       "      <td>792.1</td>\n",
       "      <td>748.1</td>\n",
       "      <td>1209</td>\n",
       "      <td>246.05</td>\n",
       "    </tr>\n",
       "  </tbody>\n",
       "</table>\n",
       "</div>"
      ],
      "text/plain": [
       "            P. Income  P. Consumption Exp  Job_Opening  Inflaction  \\\n",
       "Date                                                                 \n",
       "2017-01-01    16485.8             12347.6          161         2.5   \n",
       "2017-02-01    16559.1             12355.4          190         2.7   \n",
       "2017-03-01    16611.2             12413.8          175         2.4   \n",
       "2017-04-01    16666.6             12416.5          207         2.2   \n",
       "2017-05-01    16761.8             12420.9          172         1.9   \n",
       "\n",
       "            Ind. Prod. Cement and Concrete  Ind. Prod. Total Index  \\\n",
       "Date                                                                 \n",
       "2017-01-01                         82.0004                 98.7446   \n",
       "2017-02-01                         87.5294                 98.3676   \n",
       "2017-03-01                         93.9117                 99.1065   \n",
       "2017-04-01                         98.8599                100.0363   \n",
       "2017-05-01                        104.3002                100.1470   \n",
       "\n",
       "            GDP_Construction  All  Employees. Res. Building  \\\n",
       "Date                                                          \n",
       "2017-01-01             787.6                          717.8   \n",
       "2017-02-01             787.6                          721.3   \n",
       "2017-03-01             787.6                          723.3   \n",
       "2017-04-01             792.1                          735.0   \n",
       "2017-05-01             792.1                          748.1   \n",
       "\n",
       "            New Privately-Owned Housing Units Authorized in Permit  \\\n",
       "Date                                                                 \n",
       "2017-01-01                                               1301        \n",
       "2017-02-01                                               1240        \n",
       "2017-03-01                                               1285        \n",
       "2017-04-01                                               1258        \n",
       "2017-05-01                                               1209        \n",
       "\n",
       "            Purchase Only House Price Index  \n",
       "Date                                         \n",
       "2017-01-01                           234.16  \n",
       "2017-02-01                           236.18  \n",
       "2017-03-01                           239.91  \n",
       "2017-04-01                           243.19  \n",
       "2017-05-01                           246.05  "
      ]
     },
     "execution_count": 128,
     "metadata": {},
     "output_type": "execute_result"
    }
   ],
   "source": [
    "dt_variables = dt_features.drop(['Sales_UND'], axis=1)\n",
    "dt_variables.head(5)"
   ]
  },
  {
   "cell_type": "markdown",
   "id": "1a246dbf",
   "metadata": {},
   "source": [
    "# Data Preparation"
   ]
  },
  {
   "cell_type": "markdown",
   "id": "01240177",
   "metadata": {},
   "source": [
    "# Data Standardization by Feature standardization"
   ]
  },
  {
   "cell_type": "code",
   "execution_count": 129,
   "id": "f2a9b278",
   "metadata": {},
   "outputs": [
    {
     "name": "stderr",
     "output_type": "stream",
     "text": [
      "C:\\Users\\yrive\\AppData\\Local\\Temp/ipykernel_18980/3843959734.py:1: UserWarning: Pandas doesn't allow columns to be created via a new attribute name - see https://pandas.pydata.org/pandas-docs/stable/indexing.html#attribute-access\n",
      "  dt_variables.Std = (dt_variables-dt_variables.mean())/dt_variables.std()\n"
     ]
    },
    {
     "data": {
      "text/html": [
       "<div>\n",
       "<style scoped>\n",
       "    .dataframe tbody tr th:only-of-type {\n",
       "        vertical-align: middle;\n",
       "    }\n",
       "\n",
       "    .dataframe tbody tr th {\n",
       "        vertical-align: top;\n",
       "    }\n",
       "\n",
       "    .dataframe thead th {\n",
       "        text-align: right;\n",
       "    }\n",
       "</style>\n",
       "<table border=\"1\" class=\"dataframe\">\n",
       "  <thead>\n",
       "    <tr style=\"text-align: right;\">\n",
       "      <th></th>\n",
       "      <th>P. Income</th>\n",
       "      <th>P. Consumption Exp</th>\n",
       "      <th>Job_Opening</th>\n",
       "      <th>Inflaction</th>\n",
       "      <th>Ind. Prod. Cement and Concrete</th>\n",
       "      <th>Ind. Prod. Total Index</th>\n",
       "      <th>GDP_Construction</th>\n",
       "      <th>All  Employees. Res. Building</th>\n",
       "      <th>New Privately-Owned Housing Units Authorized in Permit</th>\n",
       "      <th>Purchase Only House Price Index</th>\n",
       "    </tr>\n",
       "    <tr>\n",
       "      <th>Date</th>\n",
       "      <th></th>\n",
       "      <th></th>\n",
       "      <th></th>\n",
       "      <th></th>\n",
       "      <th></th>\n",
       "      <th></th>\n",
       "      <th></th>\n",
       "      <th></th>\n",
       "      <th></th>\n",
       "      <th></th>\n",
       "    </tr>\n",
       "  </thead>\n",
       "  <tbody>\n",
       "    <tr>\n",
       "      <th>2017-01-01</th>\n",
       "      <td>-1.379314</td>\n",
       "      <td>-1.117771</td>\n",
       "      <td>-1.973010</td>\n",
       "      <td>0.222404</td>\n",
       "      <td>-1.855982</td>\n",
       "      <td>-0.333616</td>\n",
       "      <td>-1.686479</td>\n",
       "      <td>-2.067389</td>\n",
       "      <td>-0.696626</td>\n",
       "      <td>-1.424396</td>\n",
       "    </tr>\n",
       "    <tr>\n",
       "      <th>2017-02-01</th>\n",
       "      <td>-1.331957</td>\n",
       "      <td>-1.101867</td>\n",
       "      <td>-1.457865</td>\n",
       "      <td>0.394880</td>\n",
       "      <td>-1.243054</td>\n",
       "      <td>-0.430375</td>\n",
       "      <td>-1.686479</td>\n",
       "      <td>-1.983675</td>\n",
       "      <td>-1.048480</td>\n",
       "      <td>-1.361870</td>\n",
       "    </tr>\n",
       "    <tr>\n",
       "      <th>2017-03-01</th>\n",
       "      <td>-1.298297</td>\n",
       "      <td>-0.982791</td>\n",
       "      <td>-1.724319</td>\n",
       "      <td>0.136166</td>\n",
       "      <td>-0.535532</td>\n",
       "      <td>-0.240733</td>\n",
       "      <td>-1.686479</td>\n",
       "      <td>-1.935838</td>\n",
       "      <td>-0.788915</td>\n",
       "      <td>-1.246414</td>\n",
       "    </tr>\n",
       "    <tr>\n",
       "      <th>2017-04-01</th>\n",
       "      <td>-1.262504</td>\n",
       "      <td>-0.977286</td>\n",
       "      <td>-1.155883</td>\n",
       "      <td>-0.036311</td>\n",
       "      <td>0.013011</td>\n",
       "      <td>-0.002097</td>\n",
       "      <td>-1.600016</td>\n",
       "      <td>-1.655993</td>\n",
       "      <td>-0.944654</td>\n",
       "      <td>-1.144887</td>\n",
       "    </tr>\n",
       "    <tr>\n",
       "      <th>2017-05-01</th>\n",
       "      <td>-1.200998</td>\n",
       "      <td>-0.968315</td>\n",
       "      <td>-1.777610</td>\n",
       "      <td>-0.295025</td>\n",
       "      <td>0.616106</td>\n",
       "      <td>0.026315</td>\n",
       "      <td>-1.600016</td>\n",
       "      <td>-1.342662</td>\n",
       "      <td>-1.227291</td>\n",
       "      <td>-1.056360</td>\n",
       "    </tr>\n",
       "  </tbody>\n",
       "</table>\n",
       "</div>"
      ],
      "text/plain": [
       "            P. Income  P. Consumption Exp  Job_Opening  Inflaction  \\\n",
       "Date                                                                 \n",
       "2017-01-01  -1.379314           -1.117771    -1.973010    0.222404   \n",
       "2017-02-01  -1.331957           -1.101867    -1.457865    0.394880   \n",
       "2017-03-01  -1.298297           -0.982791    -1.724319    0.136166   \n",
       "2017-04-01  -1.262504           -0.977286    -1.155883   -0.036311   \n",
       "2017-05-01  -1.200998           -0.968315    -1.777610   -0.295025   \n",
       "\n",
       "            Ind. Prod. Cement and Concrete  Ind. Prod. Total Index  \\\n",
       "Date                                                                 \n",
       "2017-01-01                       -1.855982               -0.333616   \n",
       "2017-02-01                       -1.243054               -0.430375   \n",
       "2017-03-01                       -0.535532               -0.240733   \n",
       "2017-04-01                        0.013011               -0.002097   \n",
       "2017-05-01                        0.616106                0.026315   \n",
       "\n",
       "            GDP_Construction  All  Employees. Res. Building  \\\n",
       "Date                                                          \n",
       "2017-01-01         -1.686479                      -2.067389   \n",
       "2017-02-01         -1.686479                      -1.983675   \n",
       "2017-03-01         -1.686479                      -1.935838   \n",
       "2017-04-01         -1.600016                      -1.655993   \n",
       "2017-05-01         -1.600016                      -1.342662   \n",
       "\n",
       "            New Privately-Owned Housing Units Authorized in Permit  \\\n",
       "Date                                                                 \n",
       "2017-01-01                                          -0.696626        \n",
       "2017-02-01                                          -1.048480        \n",
       "2017-03-01                                          -0.788915        \n",
       "2017-04-01                                          -0.944654        \n",
       "2017-05-01                                          -1.227291        \n",
       "\n",
       "            Purchase Only House Price Index  \n",
       "Date                                         \n",
       "2017-01-01                        -1.424396  \n",
       "2017-02-01                        -1.361870  \n",
       "2017-03-01                        -1.246414  \n",
       "2017-04-01                        -1.144887  \n",
       "2017-05-01                        -1.056360  "
      ]
     },
     "execution_count": 129,
     "metadata": {},
     "output_type": "execute_result"
    }
   ],
   "source": [
    "dt_variables.Std = (dt_variables-dt_variables.mean())/dt_variables.std()\n",
    "dt_variables.Std.head(5)"
   ]
  },
  {
   "cell_type": "markdown",
   "id": "7c7cf790",
   "metadata": {},
   "source": [
    "# New Variables to Create the models"
   ]
  },
  {
   "cell_type": "code",
   "execution_count": 130,
   "id": "1fb03414",
   "metadata": {
    "scrolled": true
   },
   "outputs": [],
   "source": [
    "dt_trained = dt_variables.Std[['P. Income', 'P. Consumption Exp', 'Job_Opening', 'Inflaction', 'Ind. Prod. Cement and Concrete',\n",
    "                               'Ind. Prod. Total Index', 'GDP_Construction', 'All  Employees. Res. Building', \n",
    "                               'New Privately-Owned Housing Units Authorized in Permit', 'Purchase Only House Price Index']]\n",
    "\n",
    "dt_target = dt_features[['Sales_UND']]\n"
   ]
  },
  {
   "cell_type": "markdown",
   "id": "a94fd13e",
   "metadata": {},
   "source": [
    "#  Splitting Dataset"
   ]
  },
  {
   "cell_type": "code",
   "execution_count": 131,
   "id": "50899c3a",
   "metadata": {},
   "outputs": [
    {
     "name": "stdout",
     "output_type": "stream",
     "text": [
      "Total Data (100%): 57\n",
      "X_Testing Data (30%): 18\n",
      "Y_Testing Data (30%): 18\n",
      "X_Training Data (70%): 39\n",
      "Y_Training Data (70%): 39\n"
     ]
    }
   ],
   "source": [
    "x_train, x_test, y_train, y_test = train_test_split(dt_trained, dt_target, test_size = 0.3 , random_state = 0)\n",
    "\n",
    "print(\"Total Data (100%):\",len(dt_trained))\n",
    "print(\"X_Testing Data (30%):\" ,len(x_test))\n",
    "print(\"Y_Testing Data (30%):\" ,len(y_test))\n",
    "print(\"X_Training Data (70%):\",len(x_train))\n",
    "print(\"Y_Training Data (70%):\",len(y_train))"
   ]
  },
  {
   "cell_type": "markdown",
   "id": "03019d62",
   "metadata": {},
   "source": [
    "# 1. Lasso Regression Model"
   ]
  },
  {
   "cell_type": "code",
   "execution_count": 132,
   "id": "d9e28c8a",
   "metadata": {},
   "outputs": [],
   "source": [
    "modelLasso = Lasso(alpha=0.1).fit(x_train, y_train)\n",
    "y_predict_lasso = modelLasso.predict(x_test)\n"
   ]
  },
  {
   "cell_type": "markdown",
   "id": "77b07905",
   "metadata": {},
   "source": [
    "# Lasso Model Evaluation"
   ]
  },
  {
   "cell_type": "code",
   "execution_count": 133,
   "id": "cd028ad7",
   "metadata": {},
   "outputs": [
    {
     "name": "stdout",
     "output_type": "stream",
     "text": [
      "Model Evaluation\n",
      "\n",
      "MAE(Mean absolute error): 0.71\n",
      "MSE(Mean Squared Error): 0.77\n",
      "RMSE(Root Mean Squared Error) : 0.88\n",
      "R-Squared(Coefficient of determination): 0.42\n",
      "\n",
      "Coef. LASSO\n",
      "[-0.19  0.   -0.1   0.   -0.    0.   -0.24 -0.    0.   -0.  ]\n"
     ]
    }
   ],
   "source": [
    "# Model Evaluation\n",
    "mae = metrics.mean_absolute_error(y_test, y_predict_lasso)\n",
    "mse = metrics.mean_squared_error(y_test, y_predict_lasso)\n",
    "rmse = np.sqrt(mse) # or mse**(0.5)  \n",
    "r2 = metrics.r2_score(y_test,y_predict_lasso)\n",
    "\n",
    "print(\"Model Evaluation\")\n",
    "print(30*(''))\n",
    "print(\"MAE(Mean absolute error):\",mae.round(2))\n",
    "print(\"MSE(Mean Squared Error):\", mse.round(2))\n",
    "print(\"RMSE(Root Mean Squared Error) :\", rmse.round(2))\n",
    "print(\"R-Squared(Coefficient of determination):\", r2.round(2))\n",
    "print(30*(''))\n",
    "print(\"Coef. LASSO\")\n",
    "print(modelLasso.coef_.round(2))"
   ]
  },
  {
   "cell_type": "markdown",
   "id": "c0650005",
   "metadata": {},
   "source": [
    "# Model Plot"
   ]
  },
  {
   "cell_type": "code",
   "execution_count": 159,
   "id": "6228669a",
   "metadata": {},
   "outputs": [
    {
     "data": {
      "image/png": "[encoded data removed]",
      "text/plain": [
       "<Figure size 432x288 with 1 Axes>"
      ]
     },
     "metadata": {
      "needs_background": "light"
     },
     "output_type": "display_data"
    }
   ],
   "source": [
    "plt.scatter(y_test, y_predict_lasso, color=\"blue\", label=\"Testing Set\")\n",
    "plt.title ('Testing Set')\n",
    "plt.ylabel('y_predict_lasso')\n",
    "plt.xlabel('y_test')\n",
    "plt.legend()\n",
    "plt.show()"
   ]
  },
  {
   "cell_type": "code",
   "execution_count": 145,
   "id": "a3ee4c22",
   "metadata": {},
   "outputs": [],
   "source": [
    "y_predict_lasso_train = modelLasso.predict(x_train)"
   ]
  },
  {
   "cell_type": "code",
   "execution_count": 160,
   "id": "fe5a9a2e",
   "metadata": {},
   "outputs": [
    {
     "data": {
      "image/png": "[encoded data removed]",
      "text/plain": [
       "<Figure size 432x288 with 1 Axes>"
      ]
     },
     "metadata": {
      "needs_background": "light"
     },
     "output_type": "display_data"
    }
   ],
   "source": [
    "plt.scatter(y_train, y_predict_lasso_train, color=\"blue\", label=\"Training Set\")\n",
    "plt.title ('Trainig Set')\n",
    "plt.ylabel('y_predict_lasso')\n",
    "plt.xlabel('y_train')\n",
    "plt.legend()\n",
    "plt.show()"
   ]
  },
  {
   "cell_type": "code",
   "execution_count": 134,
   "id": "77aae32c",
   "metadata": {},
   "outputs": [],
   "source": [
    "# Lasso Conclusion \n",
    "\n",
    "# From the evaluation of the lasso Coefficient, it could be eliminated the following features:\n",
    "\n",
    "# P. Consumption Exp\n",
    "# Inflation\n",
    "# Ind. Prod. Cement and Concrete\n",
    "# Ind. Prod. Total Index\n",
    "# All  Employees. Res. Building\n",
    "# New Privately-Owned Housing Units Authorized in Permit\n",
    "# Purchase Only House Price Index\n",
    "\n",
    "# The following features should be evaluated for further advances:\n",
    "\n",
    "# P. Income\n",
    "# Job_Opening\n",
    "# GDP_Construction"
   ]
  },
  {
   "cell_type": "markdown",
   "id": "a3efdfc7",
   "metadata": {},
   "source": [
    "# 2. Decision Tree Regression "
   ]
  },
  {
   "cell_type": "code",
   "execution_count": 135,
   "id": "7c674db9",
   "metadata": {},
   "outputs": [
    {
     "data": {
      "text/plain": [
       "array([-0.55896624, -0.55896624, -0.04552369, -0.55896624,  0.53993926,\n",
       "        1.31234963, -0.55896624, -1.20609193, -0.55896624, -1.20609193,\n",
       "        1.31234963,  0.53993926, -0.55896624, -0.55896624, -0.55896624,\n",
       "       -0.04552369, -0.55896624,  0.53993926])"
      ]
     },
     "execution_count": 135,
     "metadata": {},
     "output_type": "execute_result"
    }
   ],
   "source": [
    "Tree_model = DecisionTreeRegressor(max_depth=4, random_state=0).fit(x_train,y_train)\n",
    "y_pred_tree = Tree_model.predict(x_test)\n",
    "y_pred_tree "
   ]
  },
  {
   "cell_type": "markdown",
   "id": "fc65fee3",
   "metadata": {},
   "source": [
    "# Tree Model Evaluation"
   ]
  },
  {
   "cell_type": "code",
   "execution_count": 136,
   "id": "6c343bbe",
   "metadata": {},
   "outputs": [
    {
     "name": "stdout",
     "output_type": "stream",
     "text": [
      "Model Evaluation\n",
      "\n",
      "MAE(Mean absolute error): 0.62\n",
      "MSE(Mean Squared Error): 0.59\n",
      "RMSE(Root Mean Squared Error) : 0.77\n",
      "R-Squared(Coefficient of determination): 0.56\n"
     ]
    }
   ],
   "source": [
    "# Model Evaluation\n",
    "mae = metrics.mean_absolute_error(y_test, y_pred_tree)\n",
    "mse = metrics.mean_squared_error(y_test, y_pred_tree)\n",
    "rmse = np.sqrt(mse) # or mse**(0.5)  \n",
    "r2 = metrics.r2_score(y_test,y_pred_tree)\n",
    "\n",
    "print(\"Model Evaluation\")\n",
    "print(30*(''))\n",
    "print(\"MAE(Mean absolute error):\",mae.round(2))\n",
    "print(\"MSE(Mean Squared Error):\", mse.round(2))\n",
    "print(\"RMSE(Root Mean Squared Error) :\", rmse.round(2))\n",
    "print(\"R-Squared(Coefficient of determination):\", r2.round(2))"
   ]
  },
  {
   "cell_type": "markdown",
   "id": "361ea9b3",
   "metadata": {},
   "source": [
    "# Model Graph"
   ]
  },
  {
   "cell_type": "code",
   "execution_count": 137,
   "id": "e1e1a1cf",
   "metadata": {},
   "outputs": [
    {
     "data": {
      "text/plain": [
       "True"
      ]
     },
     "execution_count": 137,
     "metadata": {},
     "output_type": "execute_result"
    }
   ],
   "source": [
    "dot_data = StringIO()\n",
    "export_graphviz(Tree_model, out_file=dot_data, filled=True, rounded=True,special_characters=True,feature_names = dt_trained.columns)\n",
    "graph = pydotplus.graph_from_dot_data(dot_data.getvalue())  \n",
    "graph.write_png('FeatureSelectionTree_1.png')\n"
   ]
  },
  {
   "cell_type": "code",
   "execution_count": 138,
   "id": "9b635819",
   "metadata": {},
   "outputs": [],
   "source": [
    "# Decision Tree Conclusion \n",
    "\n",
    "# From the decision tree model evaluation, it could be concluded that \n",
    "# the following features are the best to predict the Mansfield sales in the future: \n",
    "\n",
    "# Inflaction\n",
    "# P. Income"
   ]
  },
  {
   "cell_type": "markdown",
   "id": "33976a8a",
   "metadata": {},
   "source": [
    "# Conclusion"
   ]
  },
  {
   "cell_type": "code",
   "execution_count": null,
   "id": "97c9ef12",
   "metadata": {},
   "outputs": [],
   "source": [
    "# From the evaluation of these model, the best variables that fit to the prediction sale are:\n",
    "\n",
    "# P. Income\n",
    "# Job_Opening\n",
    "# GDP_Construction\n",
    "# Inflaction"
   ]
  }
 ],
 "metadata": {
  "kernelspec": {
   "display_name": "Python 3 (ipykernel)",
   "language": "python",
   "name": "python3"
  },
  "language_info": {
   "codemirror_mode": {
    "name": "ipython",
    "version": 3
   },
   "file_extension": ".py",
   "mimetype": "text/x-python",
   "name": "python",
   "nbconvert_exporter": "python",
   "pygments_lexer": "ipython3",
   "version": "3.9.7"
  }
 },
 "nbformat": 4,
 "nbformat_minor": 5
}
