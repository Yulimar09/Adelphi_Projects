{
 "cells": [
  {
   "cell_type": "markdown",
   "id": "56a505cb",
   "metadata": {},
   "source": [
    "# Importing Libraries "
   ]
  },
  {
   "cell_type": "code",
   "execution_count": 25,
   "id": "b1128782",
   "metadata": {},
   "outputs": [],
   "source": [
    "import pandas as pd\n",
    "import sklearn \n",
    "import matplotlib.pyplot as plt\n",
    "import numpy as np \n",
    "import seaborn as sns\n",
    "\n",
    "from sklearn.linear_model import Lasso\n",
    "from sklearn.linear_model import Ridge\n",
    "from sklearn.tree import DecisionTreeRegressor\n",
    "from sklearn import tree\n",
    "from sklearn.tree import DecisionTreeRegressor\n",
    "from sklearn.model_selection import train_test_split\n",
    "from sklearn.metrics import mean_squared_error\n",
    "from sklearn.tree import export_graphviz\n",
    "import sklearn.metrics as metrics\n",
    "from io import StringIO  \n",
    "import pydotplus\n"
   ]
  },
  {
   "cell_type": "markdown",
   "id": "6fccbb87",
   "metadata": {},
   "source": [
    "# Models' Creation with The First DataSet "
   ]
  },
  {
   "cell_type": "markdown",
   "id": "cd2ec3bf",
   "metadata": {},
   "source": [
    "# Loading The Dataset "
   ]
  },
  {
   "cell_type": "code",
   "execution_count": 16,
   "id": "3095f57f",
   "metadata": {},
   "outputs": [
    {
     "data": {
      "text/html": [
       "<div>\n",
       "<style scoped>\n",
       "    .dataframe tbody tr th:only-of-type {\n",
       "        vertical-align: middle;\n",
       "    }\n",
       "\n",
       "    .dataframe tbody tr th {\n",
       "        vertical-align: top;\n",
       "    }\n",
       "\n",
       "    .dataframe thead th {\n",
       "        text-align: right;\n",
       "    }\n",
       "</style>\n",
       "<table border=\"1\" class=\"dataframe\">\n",
       "  <thead>\n",
       "    <tr style=\"text-align: right;\">\n",
       "      <th></th>\n",
       "      <th>Date</th>\n",
       "      <th>All Employee Const.</th>\n",
       "      <th>Housing Unt. Under Const</th>\n",
       "      <th>Industrial Production: Construction Supplies Index</th>\n",
       "      <th>Avg. Hourly Earn All Employees Const</th>\n",
       "      <th>Real_GDP_Construction</th>\n",
       "      <th>All Employees, Res. Contractor</th>\n",
       "      <th>New Manuf Homes Avg Sales</th>\n",
       "      <th>Indust Product Total Index</th>\n",
       "      <th>Sales_UND</th>\n",
       "    </tr>\n",
       "  </thead>\n",
       "  <tbody>\n",
       "    <tr>\n",
       "      <th>0</th>\n",
       "      <td>1/1/2017</td>\n",
       "      <td>6459</td>\n",
       "      <td>1080.5</td>\n",
       "      <td>92.4725</td>\n",
       "      <td>28.59</td>\n",
       "      <td>1386.8</td>\n",
       "      <td>1821.1</td>\n",
       "      <td>44900</td>\n",
       "      <td>98.7446</td>\n",
       "      <td>1.018430</td>\n",
       "    </tr>\n",
       "    <tr>\n",
       "      <th>1</th>\n",
       "      <td>2/1/2017</td>\n",
       "      <td>6527</td>\n",
       "      <td>1088.5</td>\n",
       "      <td>93.6918</td>\n",
       "      <td>28.50</td>\n",
       "      <td>1386.8</td>\n",
       "      <td>1830.9</td>\n",
       "      <td>48700</td>\n",
       "      <td>98.3676</td>\n",
       "      <td>1.038805</td>\n",
       "    </tr>\n",
       "    <tr>\n",
       "      <th>2</th>\n",
       "      <td>3/1/2017</td>\n",
       "      <td>6634</td>\n",
       "      <td>1090.7</td>\n",
       "      <td>96.3402</td>\n",
       "      <td>28.67</td>\n",
       "      <td>1386.8</td>\n",
       "      <td>1850.3</td>\n",
       "      <td>50800</td>\n",
       "      <td>99.1065</td>\n",
       "      <td>2.782969</td>\n",
       "    </tr>\n",
       "    <tr>\n",
       "      <th>3</th>\n",
       "      <td>4/1/2017</td>\n",
       "      <td>6820</td>\n",
       "      <td>1102.4</td>\n",
       "      <td>98.8736</td>\n",
       "      <td>28.58</td>\n",
       "      <td>1381.3</td>\n",
       "      <td>1901.1</td>\n",
       "      <td>47400</td>\n",
       "      <td>100.0363</td>\n",
       "      <td>1.311840</td>\n",
       "    </tr>\n",
       "    <tr>\n",
       "      <th>4</th>\n",
       "      <td>5/1/2017</td>\n",
       "      <td>6998</td>\n",
       "      <td>1119.2</td>\n",
       "      <td>101.9561</td>\n",
       "      <td>28.65</td>\n",
       "      <td>1381.3</td>\n",
       "      <td>1954.1</td>\n",
       "      <td>49100</td>\n",
       "      <td>100.1470</td>\n",
       "      <td>1.925150</td>\n",
       "    </tr>\n",
       "  </tbody>\n",
       "</table>\n",
       "</div>"
      ],
      "text/plain": [
       "       Date  All Employee Const.  Housing Unt. Under Const  \\\n",
       "0  1/1/2017                 6459                    1080.5   \n",
       "1  2/1/2017                 6527                    1088.5   \n",
       "2  3/1/2017                 6634                    1090.7   \n",
       "3  4/1/2017                 6820                    1102.4   \n",
       "4  5/1/2017                 6998                    1119.2   \n",
       "\n",
       "   Industrial Production: Construction Supplies Index  \\\n",
       "0                                            92.4725    \n",
       "1                                            93.6918    \n",
       "2                                            96.3402    \n",
       "3                                            98.8736    \n",
       "4                                           101.9561    \n",
       "\n",
       "   Avg. Hourly Earn All Employees Const  Real_GDP_Construction  \\\n",
       "0                                 28.59                 1386.8   \n",
       "1                                 28.50                 1386.8   \n",
       "2                                 28.67                 1386.8   \n",
       "3                                 28.58                 1381.3   \n",
       "4                                 28.65                 1381.3   \n",
       "\n",
       "   All Employees, Res. Contractor  New Manuf Homes Avg Sales  \\\n",
       "0                          1821.1                      44900   \n",
       "1                          1830.9                      48700   \n",
       "2                          1850.3                      50800   \n",
       "3                          1901.1                      47400   \n",
       "4                          1954.1                      49100   \n",
       "\n",
       "   Indust Product Total Index  Sales_UND  \n",
       "0                     98.7446   1.018430  \n",
       "1                     98.3676   1.038805  \n",
       "2                     99.1065   2.782969  \n",
       "3                    100.0363   1.311840  \n",
       "4                    100.1470   1.925150  "
      ]
     },
     "execution_count": 16,
     "metadata": {},
     "output_type": "execute_result"
    }
   ],
   "source": [
    "dt_features = pd.read_csv('./Features_Selection_Mansfield_Project_2.csv' ,  encoding='latin-1')\n",
    "dt_features.head(5)"
   ]
  },
  {
   "cell_type": "code",
   "execution_count": 17,
   "id": "ea2f7e7b",
   "metadata": {
    "scrolled": true
   },
   "outputs": [
    {
     "data": {
      "text/html": [
       "<div>\n",
       "<style scoped>\n",
       "    .dataframe tbody tr th:only-of-type {\n",
       "        vertical-align: middle;\n",
       "    }\n",
       "\n",
       "    .dataframe tbody tr th {\n",
       "        vertical-align: top;\n",
       "    }\n",
       "\n",
       "    .dataframe thead th {\n",
       "        text-align: right;\n",
       "    }\n",
       "</style>\n",
       "<table border=\"1\" class=\"dataframe\">\n",
       "  <thead>\n",
       "    <tr style=\"text-align: right;\">\n",
       "      <th></th>\n",
       "      <th>All Employee Const.</th>\n",
       "      <th>Housing Unt. Under Const</th>\n",
       "      <th>Industrial Production: Construction Supplies Index</th>\n",
       "      <th>Avg. Hourly Earn All Employees Const</th>\n",
       "      <th>Real_GDP_Construction</th>\n",
       "      <th>All Employees, Res. Contractor</th>\n",
       "      <th>New Manuf Homes Avg Sales</th>\n",
       "      <th>Indust Product Total Index</th>\n",
       "      <th>Sales_UND</th>\n",
       "    </tr>\n",
       "    <tr>\n",
       "      <th>Date</th>\n",
       "      <th></th>\n",
       "      <th></th>\n",
       "      <th></th>\n",
       "      <th></th>\n",
       "      <th></th>\n",
       "      <th></th>\n",
       "      <th></th>\n",
       "      <th></th>\n",
       "      <th></th>\n",
       "    </tr>\n",
       "  </thead>\n",
       "  <tbody>\n",
       "    <tr>\n",
       "      <th>2017-01-01</th>\n",
       "      <td>6459</td>\n",
       "      <td>1080.5</td>\n",
       "      <td>92.4725</td>\n",
       "      <td>28.59</td>\n",
       "      <td>1386.8</td>\n",
       "      <td>1821.1</td>\n",
       "      <td>44900</td>\n",
       "      <td>98.7446</td>\n",
       "      <td>1.018430</td>\n",
       "    </tr>\n",
       "    <tr>\n",
       "      <th>2017-02-01</th>\n",
       "      <td>6527</td>\n",
       "      <td>1088.5</td>\n",
       "      <td>93.6918</td>\n",
       "      <td>28.50</td>\n",
       "      <td>1386.8</td>\n",
       "      <td>1830.9</td>\n",
       "      <td>48700</td>\n",
       "      <td>98.3676</td>\n",
       "      <td>1.038805</td>\n",
       "    </tr>\n",
       "    <tr>\n",
       "      <th>2017-03-01</th>\n",
       "      <td>6634</td>\n",
       "      <td>1090.7</td>\n",
       "      <td>96.3402</td>\n",
       "      <td>28.67</td>\n",
       "      <td>1386.8</td>\n",
       "      <td>1850.3</td>\n",
       "      <td>50800</td>\n",
       "      <td>99.1065</td>\n",
       "      <td>2.782969</td>\n",
       "    </tr>\n",
       "    <tr>\n",
       "      <th>2017-04-01</th>\n",
       "      <td>6820</td>\n",
       "      <td>1102.4</td>\n",
       "      <td>98.8736</td>\n",
       "      <td>28.58</td>\n",
       "      <td>1381.3</td>\n",
       "      <td>1901.1</td>\n",
       "      <td>47400</td>\n",
       "      <td>100.0363</td>\n",
       "      <td>1.311840</td>\n",
       "    </tr>\n",
       "    <tr>\n",
       "      <th>2017-05-01</th>\n",
       "      <td>6998</td>\n",
       "      <td>1119.2</td>\n",
       "      <td>101.9561</td>\n",
       "      <td>28.65</td>\n",
       "      <td>1381.3</td>\n",
       "      <td>1954.1</td>\n",
       "      <td>49100</td>\n",
       "      <td>100.1470</td>\n",
       "      <td>1.925150</td>\n",
       "    </tr>\n",
       "  </tbody>\n",
       "</table>\n",
       "</div>"
      ],
      "text/plain": [
       "            All Employee Const.  Housing Unt. Under Const  \\\n",
       "Date                                                        \n",
       "2017-01-01                 6459                    1080.5   \n",
       "2017-02-01                 6527                    1088.5   \n",
       "2017-03-01                 6634                    1090.7   \n",
       "2017-04-01                 6820                    1102.4   \n",
       "2017-05-01                 6998                    1119.2   \n",
       "\n",
       "            Industrial Production: Construction Supplies Index  \\\n",
       "Date                                                             \n",
       "2017-01-01                                            92.4725    \n",
       "2017-02-01                                            93.6918    \n",
       "2017-03-01                                            96.3402    \n",
       "2017-04-01                                            98.8736    \n",
       "2017-05-01                                           101.9561    \n",
       "\n",
       "            Avg. Hourly Earn All Employees Const  Real_GDP_Construction  \\\n",
       "Date                                                                      \n",
       "2017-01-01                                 28.59                 1386.8   \n",
       "2017-02-01                                 28.50                 1386.8   \n",
       "2017-03-01                                 28.67                 1386.8   \n",
       "2017-04-01                                 28.58                 1381.3   \n",
       "2017-05-01                                 28.65                 1381.3   \n",
       "\n",
       "            All Employees, Res. Contractor  New Manuf Homes Avg Sales  \\\n",
       "Date                                                                    \n",
       "2017-01-01                          1821.1                      44900   \n",
       "2017-02-01                          1830.9                      48700   \n",
       "2017-03-01                          1850.3                      50800   \n",
       "2017-04-01                          1901.1                      47400   \n",
       "2017-05-01                          1954.1                      49100   \n",
       "\n",
       "            Indust Product Total Index  Sales_UND  \n",
       "Date                                               \n",
       "2017-01-01                     98.7446   1.018430  \n",
       "2017-02-01                     98.3676   1.038805  \n",
       "2017-03-01                     99.1065   2.782969  \n",
       "2017-04-01                    100.0363   1.311840  \n",
       "2017-05-01                    100.1470   1.925150  "
      ]
     },
     "execution_count": 17,
     "metadata": {},
     "output_type": "execute_result"
    }
   ],
   "source": [
    "dt_features.index = pd.to_datetime(dt_features['Date'])\n",
    "dt_features.drop(\"Date\", axis = 1, inplace = True)\n",
    "dt_features.head(5)"
   ]
  },
  {
   "cell_type": "markdown",
   "id": "3d6e544f",
   "metadata": {},
   "source": [
    "# Dropping 'Sales UND' from the original data"
   ]
  },
  {
   "cell_type": "code",
   "execution_count": 18,
   "id": "84e17cdd",
   "metadata": {
    "scrolled": true
   },
   "outputs": [
    {
     "data": {
      "text/html": [
       "<div>\n",
       "<style scoped>\n",
       "    .dataframe tbody tr th:only-of-type {\n",
       "        vertical-align: middle;\n",
       "    }\n",
       "\n",
       "    .dataframe tbody tr th {\n",
       "        vertical-align: top;\n",
       "    }\n",
       "\n",
       "    .dataframe thead th {\n",
       "        text-align: right;\n",
       "    }\n",
       "</style>\n",
       "<table border=\"1\" class=\"dataframe\">\n",
       "  <thead>\n",
       "    <tr style=\"text-align: right;\">\n",
       "      <th></th>\n",
       "      <th>All Employee Const.</th>\n",
       "      <th>Housing Unt. Under Const</th>\n",
       "      <th>Industrial Production: Construction Supplies Index</th>\n",
       "      <th>Avg. Hourly Earn All Employees Const</th>\n",
       "      <th>Real_GDP_Construction</th>\n",
       "      <th>All Employees, Res. Contractor</th>\n",
       "      <th>New Manuf Homes Avg Sales</th>\n",
       "      <th>Indust Product Total Index</th>\n",
       "    </tr>\n",
       "    <tr>\n",
       "      <th>Date</th>\n",
       "      <th></th>\n",
       "      <th></th>\n",
       "      <th></th>\n",
       "      <th></th>\n",
       "      <th></th>\n",
       "      <th></th>\n",
       "      <th></th>\n",
       "      <th></th>\n",
       "    </tr>\n",
       "  </thead>\n",
       "  <tbody>\n",
       "    <tr>\n",
       "      <th>2017-01-01</th>\n",
       "      <td>6459</td>\n",
       "      <td>1080.5</td>\n",
       "      <td>92.4725</td>\n",
       "      <td>28.59</td>\n",
       "      <td>1386.8</td>\n",
       "      <td>1821.1</td>\n",
       "      <td>44900</td>\n",
       "      <td>98.7446</td>\n",
       "    </tr>\n",
       "    <tr>\n",
       "      <th>2017-02-01</th>\n",
       "      <td>6527</td>\n",
       "      <td>1088.5</td>\n",
       "      <td>93.6918</td>\n",
       "      <td>28.50</td>\n",
       "      <td>1386.8</td>\n",
       "      <td>1830.9</td>\n",
       "      <td>48700</td>\n",
       "      <td>98.3676</td>\n",
       "    </tr>\n",
       "    <tr>\n",
       "      <th>2017-03-01</th>\n",
       "      <td>6634</td>\n",
       "      <td>1090.7</td>\n",
       "      <td>96.3402</td>\n",
       "      <td>28.67</td>\n",
       "      <td>1386.8</td>\n",
       "      <td>1850.3</td>\n",
       "      <td>50800</td>\n",
       "      <td>99.1065</td>\n",
       "    </tr>\n",
       "    <tr>\n",
       "      <th>2017-04-01</th>\n",
       "      <td>6820</td>\n",
       "      <td>1102.4</td>\n",
       "      <td>98.8736</td>\n",
       "      <td>28.58</td>\n",
       "      <td>1381.3</td>\n",
       "      <td>1901.1</td>\n",
       "      <td>47400</td>\n",
       "      <td>100.0363</td>\n",
       "    </tr>\n",
       "    <tr>\n",
       "      <th>2017-05-01</th>\n",
       "      <td>6998</td>\n",
       "      <td>1119.2</td>\n",
       "      <td>101.9561</td>\n",
       "      <td>28.65</td>\n",
       "      <td>1381.3</td>\n",
       "      <td>1954.1</td>\n",
       "      <td>49100</td>\n",
       "      <td>100.1470</td>\n",
       "    </tr>\n",
       "  </tbody>\n",
       "</table>\n",
       "</div>"
      ],
      "text/plain": [
       "            All Employee Const.  Housing Unt. Under Const  \\\n",
       "Date                                                        \n",
       "2017-01-01                 6459                    1080.5   \n",
       "2017-02-01                 6527                    1088.5   \n",
       "2017-03-01                 6634                    1090.7   \n",
       "2017-04-01                 6820                    1102.4   \n",
       "2017-05-01                 6998                    1119.2   \n",
       "\n",
       "            Industrial Production: Construction Supplies Index  \\\n",
       "Date                                                             \n",
       "2017-01-01                                            92.4725    \n",
       "2017-02-01                                            93.6918    \n",
       "2017-03-01                                            96.3402    \n",
       "2017-04-01                                            98.8736    \n",
       "2017-05-01                                           101.9561    \n",
       "\n",
       "            Avg. Hourly Earn All Employees Const  Real_GDP_Construction  \\\n",
       "Date                                                                      \n",
       "2017-01-01                                 28.59                 1386.8   \n",
       "2017-02-01                                 28.50                 1386.8   \n",
       "2017-03-01                                 28.67                 1386.8   \n",
       "2017-04-01                                 28.58                 1381.3   \n",
       "2017-05-01                                 28.65                 1381.3   \n",
       "\n",
       "            All Employees, Res. Contractor  New Manuf Homes Avg Sales  \\\n",
       "Date                                                                    \n",
       "2017-01-01                          1821.1                      44900   \n",
       "2017-02-01                          1830.9                      48700   \n",
       "2017-03-01                          1850.3                      50800   \n",
       "2017-04-01                          1901.1                      47400   \n",
       "2017-05-01                          1954.1                      49100   \n",
       "\n",
       "            Indust Product Total Index  \n",
       "Date                                    \n",
       "2017-01-01                     98.7446  \n",
       "2017-02-01                     98.3676  \n",
       "2017-03-01                     99.1065  \n",
       "2017-04-01                    100.0363  \n",
       "2017-05-01                    100.1470  "
      ]
     },
     "execution_count": 18,
     "metadata": {},
     "output_type": "execute_result"
    }
   ],
   "source": [
    "dt_variables = dt_features.drop(['Sales_UND'], axis=1)\n",
    "dt_variables.head(5)"
   ]
  },
  {
   "cell_type": "markdown",
   "id": "1a246dbf",
   "metadata": {},
   "source": [
    "# Data Preparation"
   ]
  },
  {
   "cell_type": "markdown",
   "id": "01240177",
   "metadata": {},
   "source": [
    "# Data Standardization by Feature standardization"
   ]
  },
  {
   "cell_type": "code",
   "execution_count": 19,
   "id": "f2a9b278",
   "metadata": {},
   "outputs": [
    {
     "name": "stderr",
     "output_type": "stream",
     "text": [
      "C:\\Users\\yrive\\AppData\\Local\\Temp/ipykernel_4712/3843959734.py:1: UserWarning: Pandas doesn't allow columns to be created via a new attribute name - see https://pandas.pydata.org/pandas-docs/stable/indexing.html#attribute-access\n",
      "  dt_variables.Std = (dt_variables-dt_variables.mean())/dt_variables.std()\n"
     ]
    },
    {
     "data": {
      "text/html": [
       "<div>\n",
       "<style scoped>\n",
       "    .dataframe tbody tr th:only-of-type {\n",
       "        vertical-align: middle;\n",
       "    }\n",
       "\n",
       "    .dataframe tbody tr th {\n",
       "        vertical-align: top;\n",
       "    }\n",
       "\n",
       "    .dataframe thead th {\n",
       "        text-align: right;\n",
       "    }\n",
       "</style>\n",
       "<table border=\"1\" class=\"dataframe\">\n",
       "  <thead>\n",
       "    <tr style=\"text-align: right;\">\n",
       "      <th></th>\n",
       "      <th>All Employee Const.</th>\n",
       "      <th>Housing Unt. Under Const</th>\n",
       "      <th>Industrial Production: Construction Supplies Index</th>\n",
       "      <th>Avg. Hourly Earn All Employees Const</th>\n",
       "      <th>Real_GDP_Construction</th>\n",
       "      <th>All Employees, Res. Contractor</th>\n",
       "      <th>New Manuf Homes Avg Sales</th>\n",
       "      <th>Indust Product Total Index</th>\n",
       "    </tr>\n",
       "    <tr>\n",
       "      <th>Date</th>\n",
       "      <th></th>\n",
       "      <th></th>\n",
       "      <th></th>\n",
       "      <th></th>\n",
       "      <th></th>\n",
       "      <th></th>\n",
       "      <th></th>\n",
       "      <th></th>\n",
       "    </tr>\n",
       "  </thead>\n",
       "  <tbody>\n",
       "    <tr>\n",
       "      <th>2017-01-01</th>\n",
       "      <td>-2.364593</td>\n",
       "      <td>-1.176441</td>\n",
       "      <td>-1.483290</td>\n",
       "      <td>-1.581593</td>\n",
       "      <td>-0.312238</td>\n",
       "      <td>-2.236416</td>\n",
       "      <td>-1.779488</td>\n",
       "      <td>-0.309974</td>\n",
       "    </tr>\n",
       "    <tr>\n",
       "      <th>2017-02-01</th>\n",
       "      <td>-2.159192</td>\n",
       "      <td>-1.109873</td>\n",
       "      <td>-1.212768</td>\n",
       "      <td>-1.661561</td>\n",
       "      <td>-0.312238</td>\n",
       "      <td>-2.134123</td>\n",
       "      <td>-0.970823</td>\n",
       "      <td>-0.400699</td>\n",
       "    </tr>\n",
       "    <tr>\n",
       "      <th>2017-03-01</th>\n",
       "      <td>-1.835987</td>\n",
       "      <td>-1.091567</td>\n",
       "      <td>-0.625175</td>\n",
       "      <td>-1.510510</td>\n",
       "      <td>-0.312238</td>\n",
       "      <td>-1.931625</td>\n",
       "      <td>-0.523930</td>\n",
       "      <td>-0.222884</td>\n",
       "    </tr>\n",
       "    <tr>\n",
       "      <th>2017-04-01</th>\n",
       "      <td>-1.274153</td>\n",
       "      <td>-0.994211</td>\n",
       "      <td>-0.063098</td>\n",
       "      <td>-1.590478</td>\n",
       "      <td>-0.520296</td>\n",
       "      <td>-1.401372</td>\n",
       "      <td>-1.247472</td>\n",
       "      <td>0.000871</td>\n",
       "    </tr>\n",
       "    <tr>\n",
       "      <th>2017-05-01</th>\n",
       "      <td>-0.736485</td>\n",
       "      <td>-0.854418</td>\n",
       "      <td>0.620807</td>\n",
       "      <td>-1.528281</td>\n",
       "      <td>-0.520296</td>\n",
       "      <td>-0.848155</td>\n",
       "      <td>-0.885701</td>\n",
       "      <td>0.027510</td>\n",
       "    </tr>\n",
       "  </tbody>\n",
       "</table>\n",
       "</div>"
      ],
      "text/plain": [
       "            All Employee Const.  Housing Unt. Under Const  \\\n",
       "Date                                                        \n",
       "2017-01-01            -2.364593                 -1.176441   \n",
       "2017-02-01            -2.159192                 -1.109873   \n",
       "2017-03-01            -1.835987                 -1.091567   \n",
       "2017-04-01            -1.274153                 -0.994211   \n",
       "2017-05-01            -0.736485                 -0.854418   \n",
       "\n",
       "            Industrial Production: Construction Supplies Index  \\\n",
       "Date                                                             \n",
       "2017-01-01                                          -1.483290    \n",
       "2017-02-01                                          -1.212768    \n",
       "2017-03-01                                          -0.625175    \n",
       "2017-04-01                                          -0.063098    \n",
       "2017-05-01                                           0.620807    \n",
       "\n",
       "            Avg. Hourly Earn All Employees Const  Real_GDP_Construction  \\\n",
       "Date                                                                      \n",
       "2017-01-01                             -1.581593              -0.312238   \n",
       "2017-02-01                             -1.661561              -0.312238   \n",
       "2017-03-01                             -1.510510              -0.312238   \n",
       "2017-04-01                             -1.590478              -0.520296   \n",
       "2017-05-01                             -1.528281              -0.520296   \n",
       "\n",
       "            All Employees, Res. Contractor  New Manuf Homes Avg Sales  \\\n",
       "Date                                                                    \n",
       "2017-01-01                       -2.236416                  -1.779488   \n",
       "2017-02-01                       -2.134123                  -0.970823   \n",
       "2017-03-01                       -1.931625                  -0.523930   \n",
       "2017-04-01                       -1.401372                  -1.247472   \n",
       "2017-05-01                       -0.848155                  -0.885701   \n",
       "\n",
       "            Indust Product Total Index  \n",
       "Date                                    \n",
       "2017-01-01                   -0.309974  \n",
       "2017-02-01                   -0.400699  \n",
       "2017-03-01                   -0.222884  \n",
       "2017-04-01                    0.000871  \n",
       "2017-05-01                    0.027510  "
      ]
     },
     "execution_count": 19,
     "metadata": {},
     "output_type": "execute_result"
    }
   ],
   "source": [
    "dt_variables.Std = (dt_variables-dt_variables.mean())/dt_variables.std()\n",
    "dt_variables.Std.head(5)"
   ]
  },
  {
   "cell_type": "markdown",
   "id": "7c7cf790",
   "metadata": {},
   "source": [
    "# New Variables to Create the models"
   ]
  },
  {
   "cell_type": "code",
   "execution_count": 20,
   "id": "1fb03414",
   "metadata": {
    "scrolled": true
   },
   "outputs": [],
   "source": [
    "dt_trained = dt_variables.Std[['All Employee Const.','Housing Unt. Under Const', 'Industrial Production: Construction Supplies Index',\n",
    "                               'Avg. Hourly Earn All Employees Const', 'Real_GDP_Construction', 'All Employees, Res. Contractor', \n",
    "                               'New Manuf Homes Avg Sales', 'Indust Product Total Index']]\n",
    "\n",
    "dt_target = dt_features[['Sales_UND']]\n"
   ]
  },
  {
   "cell_type": "markdown",
   "id": "a94fd13e",
   "metadata": {},
   "source": [
    "#  Splitting Dataset"
   ]
  },
  {
   "cell_type": "code",
   "execution_count": 21,
   "id": "50899c3a",
   "metadata": {},
   "outputs": [
    {
     "name": "stdout",
     "output_type": "stream",
     "text": [
      "Total Data (100%): 50\n",
      "X_Testing Data (30%): 15\n",
      "Y_Testing Data (30%): 15\n",
      "X_Training Data (70%): 35\n",
      "Y_Training Data (70%): 35\n"
     ]
    }
   ],
   "source": [
    "x_train, x_test, y_train, y_test = train_test_split(dt_trained, dt_target, test_size = 0.3 , random_state = 0)\n",
    "\n",
    "print(\"Total Data (100%):\",len(dt_trained))\n",
    "print(\"X_Testing Data (30%):\" ,len(x_test))\n",
    "print(\"Y_Testing Data (30%):\" ,len(y_test))\n",
    "print(\"X_Training Data (70%):\",len(x_train))\n",
    "print(\"Y_Training Data (70%):\",len(y_train))"
   ]
  },
  {
   "cell_type": "markdown",
   "id": "03019d62",
   "metadata": {},
   "source": [
    "# 1. Lasso Regression Model"
   ]
  },
  {
   "cell_type": "code",
   "execution_count": 22,
   "id": "d9e28c8a",
   "metadata": {},
   "outputs": [],
   "source": [
    "modelLasso = Lasso(alpha=0.1).fit(x_train, y_train)\n",
    "y_predict_lasso = modelLasso.predict(x_test)\n"
   ]
  },
  {
   "cell_type": "markdown",
   "id": "a1187557",
   "metadata": {},
   "source": [
    "# Lasso Model Evaluation"
   ]
  },
  {
   "cell_type": "code",
   "execution_count": 26,
   "id": "ebb948c4",
   "metadata": {},
   "outputs": [
    {
     "name": "stdout",
     "output_type": "stream",
     "text": [
      "Model Evaluation\n",
      "\n",
      "MAE(Mean absolute error): 0.6\n",
      "MSE(Mean Squared Error): 0.6\n",
      "RMSE(Root Mean Squared Error) : 0.77\n",
      "R-Squared(Coefficient of determination): 0.37\n",
      "\n",
      "Coef. LASSO\n",
      "[-0.   -0.    0.   -0.47 -0.    0.   -0.    0.03]\n"
     ]
    }
   ],
   "source": [
    "# Model Evaluation\n",
    "mae = metrics.mean_absolute_error(y_test, y_predict_lasso)\n",
    "mse = metrics.mean_squared_error(y_test, y_predict_lasso)\n",
    "rmse = np.sqrt(mse) # or mse**(0.5)  \n",
    "r2 = metrics.r2_score(y_test,y_predict_lasso)\n",
    "\n",
    "print(\"Model Evaluation\")\n",
    "print(30*(''))\n",
    "print(\"MAE(Mean absolute error):\",mae.round(2))\n",
    "print(\"MSE(Mean Squared Error):\", mse.round(2))\n",
    "print(\"RMSE(Root Mean Squared Error) :\", rmse.round(2))\n",
    "print(\"R-Squared(Coefficient of determination):\", r2.round(2))\n",
    "print(30*(''))\n",
    "print(\"Coef. LASSO\")\n",
    "print(modelLasso.coef_.round(2))"
   ]
  },
  {
   "cell_type": "markdown",
   "id": "ef16bf61",
   "metadata": {},
   "source": [
    "# Model Plot"
   ]
  },
  {
   "cell_type": "code",
   "execution_count": 35,
   "id": "285a4d56",
   "metadata": {},
   "outputs": [
    {
     "data": {
      "image/png": "[encoded data removed]",
      "text/plain": [
       "<Figure size 432x288 with 1 Axes>"
      ]
     },
     "metadata": {
      "needs_background": "light"
     },
     "output_type": "display_data"
    }
   ],
   "source": [
    "plt.scatter(y_test, y_predict_lasso, color=\"blue\", label=\"Testing Set\")\n",
    "plt.title ('Testing Set')\n",
    "plt.ylabel('y_predict_lasso')\n",
    "plt.xlabel('y_test')\n",
    "plt.legend()\n",
    "plt.show()"
   ]
  },
  {
   "cell_type": "code",
   "execution_count": 36,
   "id": "97fb88e5",
   "metadata": {},
   "outputs": [],
   "source": [
    "y_predict_lasso_train = modelLasso.predict(x_train)"
   ]
  },
  {
   "cell_type": "code",
   "execution_count": 38,
   "id": "b8a1bed1",
   "metadata": {},
   "outputs": [
    {
     "data": {
      "image/png": "[encoded data removed]",
      "text/plain": [
       "<Figure size 432x288 with 1 Axes>"
      ]
     },
     "metadata": {
      "needs_background": "light"
     },
     "output_type": "display_data"
    }
   ],
   "source": [
    "plt.scatter(y_train, y_predict_lasso_train, color=\"blue\", label=\"Training Set\")\n",
    "plt.title ('Trainig Set')\n",
    "plt.ylabel('y_predict_lasso')\n",
    "plt.xlabel('y_train')\n",
    "plt.legend()\n",
    "plt.show()"
   ]
  },
  {
   "cell_type": "code",
   "execution_count": 33,
   "id": "8ad51667",
   "metadata": {},
   "outputs": [],
   "source": [
    "# Lasso Conclusion \n",
    "\n",
    "# From the evaluation of the lasso Coefficient, it could be eliminated the following features:\n",
    "\n",
    "# All Employee Const\n",
    "# Housing Unt. Under Const\n",
    "# Industrial Production: Construction Supplies Index\n",
    "# Real_GDP_Construction\n",
    "# All Employees, Res. Contractor\n",
    "# New Manuf Homes Avg Sales\n",
    "\n",
    "# The following features should be evaluated for further advances:\n",
    "\n",
    "# Avg. Hourly Earn All Employees Const\n",
    "# Indust Product Total Index\n"
   ]
  },
  {
   "cell_type": "markdown",
   "id": "a3efdfc7",
   "metadata": {},
   "source": [
    "# 2. Decision Tree Regression "
   ]
  },
  {
   "cell_type": "code",
   "execution_count": 29,
   "id": "7c674db9",
   "metadata": {},
   "outputs": [
    {
     "data": {
      "text/plain": [
       "array([-1.03952025,  0.59104841,  0.59104841, -1.31968669,  1.32236771,\n",
       "       -0.44454862, -1.20660133, -1.20660133,  1.94043185,  1.32236771,\n",
       "       -1.20660133, -1.20660133,  0.18491623, -1.20660133,  0.18491623])"
      ]
     },
     "execution_count": 29,
     "metadata": {},
     "output_type": "execute_result"
    }
   ],
   "source": [
    "Tree_model = DecisionTreeRegressor(max_depth=4, random_state=0).fit(x_train,y_train)\n",
    "y_pred_tree = Tree_model.predict(x_test)\n",
    "y_pred_tree "
   ]
  },
  {
   "cell_type": "markdown",
   "id": "bea02438",
   "metadata": {},
   "source": [
    "# Tree Model Evaluation"
   ]
  },
  {
   "cell_type": "code",
   "execution_count": 30,
   "id": "1a046c75",
   "metadata": {},
   "outputs": [
    {
     "name": "stdout",
     "output_type": "stream",
     "text": [
      "Model Evaluation\n",
      "\n",
      "MAE(Mean absolute error): 0.77\n",
      "MSE(Mean Squared Error): 0.84\n",
      "RMSE(Root Mean Squared Error) : 0.92\n",
      "R-Squared(Coefficient of determination): 0.11\n"
     ]
    }
   ],
   "source": [
    "# Model Evaluation\n",
    "mae = metrics.mean_absolute_error(y_test, y_pred_tree)\n",
    "mse = metrics.mean_squared_error(y_test, y_pred_tree)\n",
    "rmse = np.sqrt(mse) # or mse**(0.5)  \n",
    "r2 = metrics.r2_score(y_test,y_pred_tree)\n",
    "\n",
    "print(\"Model Evaluation\")\n",
    "print(30*(''))\n",
    "print(\"MAE(Mean absolute error):\",mae.round(2))\n",
    "print(\"MSE(Mean Squared Error):\", mse.round(2))\n",
    "print(\"RMSE(Root Mean Squared Error) :\", rmse.round(2))\n",
    "print(\"R-Squared(Coefficient of determination):\", r2.round(2))"
   ]
  },
  {
   "cell_type": "markdown",
   "id": "361ea9b3",
   "metadata": {},
   "source": [
    "# Model Graph"
   ]
  },
  {
   "cell_type": "code",
   "execution_count": 32,
   "id": "e1e1a1cf",
   "metadata": {},
   "outputs": [
    {
     "data": {
      "text/plain": [
       "True"
      ]
     },
     "execution_count": 32,
     "metadata": {},
     "output_type": "execute_result"
    }
   ],
   "source": [
    "dot_data = StringIO()\n",
    "export_graphviz(Tree_model, out_file=dot_data, filled=True, rounded=True,special_characters=True,feature_names = dt_trained.columns)\n",
    "graph = pydotplus.graph_from_dot_data(dot_data.getvalue())  \n",
    "graph.write_png('FeatureSelectionTree_2.png')\n"
   ]
  },
  {
   "cell_type": "code",
   "execution_count": 34,
   "id": "6c81a731",
   "metadata": {},
   "outputs": [],
   "source": [
    "# Decision Tree Conclusion \n",
    "\n",
    "# From the decision tree model evaluation, it could be concluded that \n",
    "# the following features are the best to predict the Mansfield sales in the future: \n",
    "\n",
    "# Indust Product Total Index\n",
    "# Housing Unt. Under Const\n"
   ]
  },
  {
   "cell_type": "markdown",
   "id": "9f82626a",
   "metadata": {},
   "source": [
    "# Conclusion"
   ]
  },
  {
   "cell_type": "code",
   "execution_count": null,
   "id": "8661a454",
   "metadata": {},
   "outputs": [],
   "source": [
    "# From the evaluation of these model, the best variables that fit to the prediction sale are:\n",
    "\n",
    "# Avg. Hourly Earn All Employees Const\n",
    "# Indust Product Total Index\n",
    "# Indust Product Total Index"
   ]
  }
 ],
 "metadata": {
  "kernelspec": {
   "display_name": "Python 3 (ipykernel)",
   "language": "python",
   "name": "python3"
  },
  "language_info": {
   "codemirror_mode": {
    "name": "ipython",
    "version": 3
   },
   "file_extension": ".py",
   "mimetype": "text/x-python",
   "name": "python",
   "nbconvert_exporter": "python",
   "pygments_lexer": "ipython3",
   "version": "3.9.7"
  }
 },
 "nbformat": 4,
 "nbformat_minor": 5
}
