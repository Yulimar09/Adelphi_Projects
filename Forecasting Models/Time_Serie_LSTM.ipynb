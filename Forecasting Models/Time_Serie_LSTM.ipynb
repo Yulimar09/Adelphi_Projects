{
 "cells": [
  {
   "cell_type": "code",
   "execution_count": 1,
   "id": "77aea939",
   "metadata": {},
   "outputs": [],
   "source": [
    "import pandas as pd\n",
    "import numpy as np\n",
    "import matplotlib.pyplot as plt\n",
    "\n",
    "\n",
    "from sklearn.preprocessing import StandardScaler\n",
    "from sklearn import metrics\n",
    "\n",
    "from keras.preprocessing.sequence import TimeseriesGenerator\n",
    "from keras.models import Sequential\n",
    "from keras.layers import Dense\n",
    "from keras.layers import LSTM\n",
    "\n",
    "from tensorflow.keras.layers import Dense, Dropout\n",
    "\n",
    "from datetime import datetime\n",
    "\n",
    "import warnings\n",
    "warnings.filterwarnings(\"ignore\")"
   ]
  },
  {
   "cell_type": "markdown",
   "id": "118adc51",
   "metadata": {},
   "source": [
    "#### Defining main functions "
   ]
  },
  {
   "cell_type": "code",
   "execution_count": 2,
   "id": "12909bb7",
   "metadata": {},
   "outputs": [],
   "source": [
    "def mean_absolute_percentage_error_func(y_true, y_pred):\n",
    "    '''\n",
    "    Calculate the mean absolute percentage error as a metric for evaluation\n",
    "    '''    \n",
    "    y_true, y_pred = np.array(y_true), np.array(y_pred)\n",
    "    return np.mean(np.abs((y_true - y_pred) / y_true)) * 100"
   ]
  },
  {
   "cell_type": "code",
   "execution_count": 4,
   "id": "57d4eefc",
   "metadata": {},
   "outputs": [],
   "source": [
    "def timeseries_evaluation_metrics_func(y_true, y_pred):\n",
    "        \n",
    "    print('Metric Results: ')\n",
    "    print(f'MSE is : {metrics.mean_squared_error(y_true, y_pred).round(2)}')\n",
    "    print(f'MAE is : {metrics.mean_absolute_error(y_true, y_pred).round(2)}')\n",
    "    print(f'RMSE is : {np.sqrt(metrics.mean_squared_error(y_true, y_pred)).round(2)}')\n",
    "    print(f'MAPE is : {mean_absolute_percentage_error_func(y_true, y_pred).round(2)}')\n",
    "    print(f'R2 is : {metrics.r2_score(y_true, y_pred).round()}',end='\\n\\n')"
   ]
  },
  {
   "cell_type": "markdown",
   "id": "8339af87",
   "metadata": {},
   "source": [
    "#### Reading Data-Set"
   ]
  },
  {
   "cell_type": "code",
   "execution_count": 5,
   "id": "e64f4eda",
   "metadata": {},
   "outputs": [],
   "source": [
    "df = pd.read_csv('lstmdataset.csv',index_col='Date',parse_dates=True)\n",
    "df.index.freq='MS'"
   ]
  },
  {
   "cell_type": "code",
   "execution_count": 6,
   "id": "b627de67",
   "metadata": {},
   "outputs": [
    {
     "data": {
      "text/html": [
       "<div>\n",
       "<style scoped>\n",
       "    .dataframe tbody tr th:only-of-type {\n",
       "        vertical-align: middle;\n",
       "    }\n",
       "\n",
       "    .dataframe tbody tr th {\n",
       "        vertical-align: top;\n",
       "    }\n",
       "\n",
       "    .dataframe thead th {\n",
       "        text-align: right;\n",
       "    }\n",
       "</style>\n",
       "<table border=\"1\" class=\"dataframe\">\n",
       "  <thead>\n",
       "    <tr style=\"text-align: right;\">\n",
       "      <th></th>\n",
       "      <th>Orders</th>\n",
       "      <th>PPI_ConcreteProducts_lag3</th>\n",
       "      <th>PPI_ConstructionMaterials_lag3</th>\n",
       "      <th>All_EmployeesConstruction_lag3</th>\n",
       "      <th>HomesUSA_lag3</th>\n",
       "      <th>UnemploymentRate_lag3</th>\n",
       "      <th>JobOpenConstruction_lag3</th>\n",
       "    </tr>\n",
       "    <tr>\n",
       "      <th>Date</th>\n",
       "      <th></th>\n",
       "      <th></th>\n",
       "      <th></th>\n",
       "      <th></th>\n",
       "      <th></th>\n",
       "      <th></th>\n",
       "      <th></th>\n",
       "    </tr>\n",
       "  </thead>\n",
       "  <tbody>\n",
       "    <tr>\n",
       "      <th>2018-01-01</th>\n",
       "      <td>1.266171</td>\n",
       "      <td>258.500</td>\n",
       "      <td>333.769</td>\n",
       "      <td>7093</td>\n",
       "      <td>103</td>\n",
       "      <td>3.7</td>\n",
       "      <td>390</td>\n",
       "    </tr>\n",
       "    <tr>\n",
       "      <th>2018-02-01</th>\n",
       "      <td>-0.617705</td>\n",
       "      <td>259.200</td>\n",
       "      <td>330.548</td>\n",
       "      <td>7184</td>\n",
       "      <td>98</td>\n",
       "      <td>3.6</td>\n",
       "      <td>331</td>\n",
       "    </tr>\n",
       "    <tr>\n",
       "      <th>2018-03-01</th>\n",
       "      <td>0.882906</td>\n",
       "      <td>263.900</td>\n",
       "      <td>326.320</td>\n",
       "      <td>7194</td>\n",
       "      <td>95</td>\n",
       "      <td>3.5</td>\n",
       "      <td>413</td>\n",
       "    </tr>\n",
       "    <tr>\n",
       "      <th>2018-04-01</th>\n",
       "      <td>0.693607</td>\n",
       "      <td>262.300</td>\n",
       "      <td>225.800</td>\n",
       "      <td>7212</td>\n",
       "      <td>103</td>\n",
       "      <td>4.0</td>\n",
       "      <td>255</td>\n",
       "    </tr>\n",
       "    <tr>\n",
       "      <th>2018-05-01</th>\n",
       "      <td>1.323791</td>\n",
       "      <td>264.200</td>\n",
       "      <td>228.700</td>\n",
       "      <td>7274</td>\n",
       "      <td>102</td>\n",
       "      <td>4.1</td>\n",
       "      <td>212</td>\n",
       "    </tr>\n",
       "    <tr>\n",
       "      <th>...</th>\n",
       "      <td>...</td>\n",
       "      <td>...</td>\n",
       "      <td>...</td>\n",
       "      <td>...</td>\n",
       "      <td>...</td>\n",
       "      <td>...</td>\n",
       "      <td>...</td>\n",
       "    </tr>\n",
       "    <tr>\n",
       "      <th>2022-11-01</th>\n",
       "      <td>-1.321594</td>\n",
       "      <td>347.344</td>\n",
       "      <td>342.753</td>\n",
       "      <td>7833</td>\n",
       "      <td>116</td>\n",
       "      <td>3.7</td>\n",
       "      <td>386</td>\n",
       "    </tr>\n",
       "    <tr>\n",
       "      <th>2022-12-01</th>\n",
       "      <td>-1.747332</td>\n",
       "      <td>350.787</td>\n",
       "      <td>336.464</td>\n",
       "      <td>7859</td>\n",
       "      <td>110</td>\n",
       "      <td>3.5</td>\n",
       "      <td>423</td>\n",
       "    </tr>\n",
       "    <tr>\n",
       "      <th>2023-01-01</th>\n",
       "      <td>-1.249637</td>\n",
       "      <td>343.900</td>\n",
       "      <td>333.769</td>\n",
       "      <td>7814</td>\n",
       "      <td>103</td>\n",
       "      <td>3.7</td>\n",
       "      <td>390</td>\n",
       "    </tr>\n",
       "    <tr>\n",
       "      <th>2023-02-01</th>\n",
       "      <td>-1.321594</td>\n",
       "      <td>347.344</td>\n",
       "      <td>330.548</td>\n",
       "      <td>7833</td>\n",
       "      <td>98</td>\n",
       "      <td>3.6</td>\n",
       "      <td>331</td>\n",
       "    </tr>\n",
       "    <tr>\n",
       "      <th>2023-03-01</th>\n",
       "      <td>-1.747332</td>\n",
       "      <td>350.787</td>\n",
       "      <td>326.320</td>\n",
       "      <td>7859</td>\n",
       "      <td>95</td>\n",
       "      <td>3.5</td>\n",
       "      <td>413</td>\n",
       "    </tr>\n",
       "  </tbody>\n",
       "</table>\n",
       "<p>63 rows × 7 columns</p>\n",
       "</div>"
      ],
      "text/plain": [
       "              Orders  PPI_ConcreteProducts_lag3  \\\n",
       "Date                                              \n",
       "2018-01-01  1.266171                    258.500   \n",
       "2018-02-01 -0.617705                    259.200   \n",
       "2018-03-01  0.882906                    263.900   \n",
       "2018-04-01  0.693607                    262.300   \n",
       "2018-05-01  1.323791                    264.200   \n",
       "...              ...                        ...   \n",
       "2022-11-01 -1.321594                    347.344   \n",
       "2022-12-01 -1.747332                    350.787   \n",
       "2023-01-01 -1.249637                    343.900   \n",
       "2023-02-01 -1.321594                    347.344   \n",
       "2023-03-01 -1.747332                    350.787   \n",
       "\n",
       "            PPI_ConstructionMaterials_lag3  All_EmployeesConstruction_lag3  \\\n",
       "Date                                                                         \n",
       "2018-01-01                         333.769                            7093   \n",
       "2018-02-01                         330.548                            7184   \n",
       "2018-03-01                         326.320                            7194   \n",
       "2018-04-01                         225.800                            7212   \n",
       "2018-05-01                         228.700                            7274   \n",
       "...                                    ...                             ...   \n",
       "2022-11-01                         342.753                            7833   \n",
       "2022-12-01                         336.464                            7859   \n",
       "2023-01-01                         333.769                            7814   \n",
       "2023-02-01                         330.548                            7833   \n",
       "2023-03-01                         326.320                            7859   \n",
       "\n",
       "            HomesUSA_lag3  UnemploymentRate_lag3  JobOpenConstruction_lag3  \n",
       "Date                                                                        \n",
       "2018-01-01            103                    3.7                       390  \n",
       "2018-02-01             98                    3.6                       331  \n",
       "2018-03-01             95                    3.5                       413  \n",
       "2018-04-01            103                    4.0                       255  \n",
       "2018-05-01            102                    4.1                       212  \n",
       "...                   ...                    ...                       ...  \n",
       "2022-11-01            116                    3.7                       386  \n",
       "2022-12-01            110                    3.5                       423  \n",
       "2023-01-01            103                    3.7                       390  \n",
       "2023-02-01             98                    3.6                       331  \n",
       "2023-03-01             95                    3.5                       413  \n",
       "\n",
       "[63 rows x 7 columns]"
      ]
     },
     "execution_count": 6,
     "metadata": {},
     "output_type": "execute_result"
    }
   ],
   "source": [
    "df"
   ]
  },
  {
   "cell_type": "markdown",
   "id": "934e0753",
   "metadata": {},
   "source": [
    "### Transforming all variables "
   ]
  },
  {
   "cell_type": "code",
   "execution_count": 7,
   "id": "9693ff9d",
   "metadata": {},
   "outputs": [],
   "source": [
    "#Remove Increasing Volatility\n",
    "orders_series = df.Orders\n",
    "annual_volatility = orders_series.groupby(orders_series.index.year).std()\n",
    "orders_annual_vol = orders_series.index.map(lambda d: annual_volatility.loc[d.year])\n",
    "orders_series = orders_series / orders_annual_vol\n",
    "\n",
    "#Remove Seasonality\n",
    "month_avgs = orders_series.groupby(orders_series.index.month).mean()\n",
    "orders_month_avg = orders_series.index.map(lambda d: month_avgs.loc[d.month])\n",
    "orders_series = orders_series - orders_month_avg\n"
   ]
  },
  {
   "cell_type": "code",
   "execution_count": 8,
   "id": "a3d526f3",
   "metadata": {},
   "outputs": [],
   "source": [
    "#Remove Increasing Volatility\n",
    "Concrete_series = df.PPI_ConcreteProducts_lag3\n",
    "Concrete_annual_volatility = Concrete_series.groupby(Concrete_series.index.year).std()\n",
    "Concrete_annual_vol = Concrete_series.index.map(lambda d: Concrete_annual_volatility.loc[d.year])\n",
    "Concrete_series = Concrete_series / Concrete_annual_vol\n",
    "\n",
    "#Remove Seasonality\n",
    "month_avgs1 = Concrete_series.groupby(Concrete_series.index.month).mean()\n",
    "Concrete_month_avg = Concrete_series.index.map(lambda d: month_avgs1.loc[d.month])\n",
    "Concrete_series = Concrete_series - Concrete_month_avg"
   ]
  },
  {
   "cell_type": "code",
   "execution_count": 9,
   "id": "3c2c90da",
   "metadata": {},
   "outputs": [],
   "source": [
    "#Remove Increasing Volatility\n",
    "Construction_series = df.PPI_ConstructionMaterials_lag3\n",
    "Construction_annual_volatility = Construction_series.groupby(Construction_series.index.year).std()\n",
    "Construction_annual_vol = Construction_series.index.map(lambda d: Construction_annual_volatility.loc[d.year])\n",
    "Construction_series = Construction_series / Construction_annual_vol\n",
    "\n",
    "#Remove Seasonality\n",
    "month_avgs2 = Construction_series.groupby(Construction_series.index.month).mean()\n",
    "Construction_month_avg = Construction_series.index.map(lambda d: month_avgs2.loc[d.month])\n",
    "Construction_series = Construction_series - Construction_month_avg"
   ]
  },
  {
   "cell_type": "code",
   "execution_count": 10,
   "id": "d52bb5ea",
   "metadata": {},
   "outputs": [],
   "source": [
    "#Remove Increasing Volatility\n",
    "Employees_series = df.All_EmployeesConstruction_lag3\n",
    "Employees_annual_volatility = Employees_series.groupby(Employees_series.index.year).std()\n",
    "Employees_annual_vol = Employees_series.index.map(lambda d: Employees_annual_volatility.loc[d.year])\n",
    "Employees_series = Employees_series / Employees_annual_vol\n",
    "\n",
    "#Remove Seasonality\n",
    "month_avgs3 = Employees_series.groupby(Employees_series.index.month).mean()\n",
    "Employees_month_avg = Employees_series.index.map(lambda d: month_avgs3.loc[d.month])\n",
    "Employees_series = Employees_series - Employees_month_avg"
   ]
  },
  {
   "cell_type": "code",
   "execution_count": 11,
   "id": "a4ec25e5",
   "metadata": {},
   "outputs": [],
   "source": [
    "#Remove Increasing Volatility\n",
    "HomesUSA_series = df.HomesUSA_lag3  \n",
    "HomesUSA_annual_volatility = HomesUSA_series.groupby(HomesUSA_series.index.year).std()\n",
    "HomesUSA_annual_vol = HomesUSA_series.index.map(lambda d: HomesUSA_annual_volatility.loc[d.year])\n",
    "HomesUSA_series = HomesUSA_series  / HomesUSA_annual_vol\n",
    "\n",
    "#Remove Seasonality\n",
    "month_avgs4 = HomesUSA_series.groupby(HomesUSA_series.index.month).mean()\n",
    "HomesUSA__month_avg = HomesUSA_series.index.map(lambda d: month_avgs4.loc[d.month])\n",
    "HomesUSA_series = HomesUSA_series - HomesUSA__month_avg"
   ]
  },
  {
   "cell_type": "code",
   "execution_count": 12,
   "id": "a177f10e",
   "metadata": {},
   "outputs": [],
   "source": [
    "#Remove Increasing Volatility\n",
    "Unemployment_series = df.UnemploymentRate_lag3\n",
    "Unemploymen_annual_volatility = Unemployment_series.groupby(Unemployment_series.index.year).std()\n",
    "Unemploymen_annual_vol = Unemployment_series.index.map(lambda d: Unemploymen_annual_volatility.loc[d.year])\n",
    "Unemploymen_series = Unemployment_series / Unemploymen_annual_vol \n",
    "\n",
    "#Remove Seasonality\n",
    "month_avgs5 = Unemploymen_series.groupby(Unemploymen_series.index.month).mean()\n",
    "Unemploymen_month_avg = Unemploymen_series.index.map(lambda d: month_avgs5.loc[d.month])\n",
    "Unemploymen_series = Unemploymen_series - Unemploymen_month_avg"
   ]
  },
  {
   "cell_type": "code",
   "execution_count": 13,
   "id": "b7e15c81",
   "metadata": {},
   "outputs": [],
   "source": [
    "#Remove Increasing Volatility\n",
    "JobOpen_series = df.JobOpenConstruction_lag3\n",
    "JobOpen_annual_volatility = JobOpen_series.groupby(JobOpen_series.index.year).std()\n",
    "JobOpen_annual_vol = JobOpen_series.index.map(lambda d: JobOpen_annual_volatility.loc[d.year])\n",
    "JobOpen_series = JobOpen_series / JobOpen_annual_vol\n",
    "\n",
    "#Remove Seasonality\n",
    "month_avgs6 = JobOpen_series.groupby(JobOpen_series.index.month).mean()\n",
    "JobOpen_month_avg = JobOpen_series.index.map(lambda d: month_avgs6.loc[d.month])\n",
    "JobOpen_series = JobOpen_series - JobOpen_month_avg"
   ]
  },
  {
   "cell_type": "markdown",
   "id": "b8fefaa5",
   "metadata": {},
   "source": [
    "### Replacing the Transforming Data into a Dataframe"
   ]
  },
  {
   "cell_type": "code",
   "execution_count": 14,
   "id": "426f1da8",
   "metadata": {},
   "outputs": [],
   "source": [
    "df['Orders'] = orders_series\n",
    "df['PPI_ConcreteProducts_lag3'] = Concrete_series\n",
    "df['PPI_ConstructionMaterials_lag3'] = Construction_series\n",
    "df['All_EmployeesConstruction_lag3'] = Employees_series\n",
    "df['HomesUSA_lag3'] = HomesUSA_series\n",
    "df['UnemploymentRate_lag3'] = Unemploymen_series \n",
    "df['JobOpenConstruction_lag3'] = JobOpen_series"
   ]
  },
  {
   "cell_type": "code",
   "execution_count": 15,
   "id": "3b70ff71",
   "metadata": {},
   "outputs": [
    {
     "name": "stdout",
     "output_type": "stream",
     "text": [
      "['Orders', 'PPI_ConcreteProducts_lag3', 'PPI_ConstructionMaterials_lag3', 'All_EmployeesConstruction_lag3', 'HomesUSA_lag3', 'UnemploymentRate_lag3', 'JobOpenConstruction_lag3']\n"
     ]
    }
   ],
   "source": [
    "#Variables for training\n",
    "cols = list(df)[0:8]\n",
    "print(cols) "
   ]
  },
  {
   "cell_type": "code",
   "execution_count": 16,
   "id": "98ea963c",
   "metadata": {},
   "outputs": [],
   "source": [
    "df_for_training = df[cols].astype(float)"
   ]
  },
  {
   "cell_type": "markdown",
   "id": "58a8b340",
   "metadata": {},
   "source": [
    "### Normalize the data using the StandardScaler"
   ]
  },
  {
   "cell_type": "code",
   "execution_count": 17,
   "id": "4520a9de",
   "metadata": {},
   "outputs": [],
   "source": [
    "scaler = StandardScaler()\n",
    "scaler = scaler.fit(df_for_training)\n",
    "df_for_training_scaled = scaler.transform(df_for_training)"
   ]
  },
  {
   "cell_type": "markdown",
   "id": "bda53d70",
   "metadata": {},
   "source": [
    "###  Create sequences of data for the LSTM model"
   ]
  },
  {
   "cell_type": "code",
   "execution_count": 18,
   "id": "48cb2aba",
   "metadata": {},
   "outputs": [
    {
     "name": "stdout",
     "output_type": "stream",
     "text": [
      "trainX shape == (51, 12, 7).\n",
      "trainY shape == (51, 1).\n"
     ]
    }
   ],
   "source": [
    "#Empty lists to be populated using formatted training data\n",
    "trainX = []\n",
    "trainY = []\n",
    "\n",
    "n_future = 1  \n",
    "n_past = 12  \n",
    "\n",
    "for i in range(n_past, len(df_for_training_scaled) - n_future +1):\n",
    "    trainX.append(df_for_training_scaled[i - n_past:i, 0:df_for_training.shape[1]])\n",
    "    trainY.append(df_for_training_scaled[i + n_future - 1:i + n_future, 0])\n",
    "\n",
    "trainX, trainY = np.array(trainX), np.array(trainY)\n",
    "\n",
    "print('trainX shape == {}.'.format(trainX.shape))\n",
    "print('trainY shape == {}.'.format(trainY.shape))"
   ]
  },
  {
   "cell_type": "markdown",
   "id": "53672ccd",
   "metadata": {},
   "source": [
    "### Define and compile the LSTM model"
   ]
  },
  {
   "cell_type": "code",
   "execution_count": 19,
   "id": "0d101d98",
   "metadata": {},
   "outputs": [
    {
     "name": "stdout",
     "output_type": "stream",
     "text": [
      "Model: \"sequential\"\n",
      "_________________________________________________________________\n",
      " Layer (type)                Output Shape              Param #   \n",
      "=================================================================\n",
      " lstm (LSTM)                 (None, 12, 100)           43200     \n",
      "                                                                 \n",
      " lstm_1 (LSTM)               (None, 32)                17024     \n",
      "                                                                 \n",
      " dropout (Dropout)           (None, 32)                0         \n",
      "                                                                 \n",
      " dense (Dense)               (None, 1)                 33        \n",
      "                                                                 \n",
      "=================================================================\n",
      "Total params: 60,257\n",
      "Trainable params: 60,257\n",
      "Non-trainable params: 0\n",
      "_________________________________________________________________\n"
     ]
    }
   ],
   "source": [
    "model = Sequential()\n",
    "model.add(LSTM(100, activation='relu', input_shape=(trainX.shape[1], trainX.shape[2]), return_sequences=True))\n",
    "model.add(LSTM(32, activation='relu', return_sequences=False))\n",
    "model.add(Dropout(0.2))\n",
    "model.add(Dense(trainY.shape[1]))\n",
    "\n",
    "model.compile(optimizer='adam', loss='mse')\n",
    "model.summary()"
   ]
  },
  {
   "cell_type": "markdown",
   "id": "983abb5a",
   "metadata": {},
   "source": [
    "### Fit the model"
   ]
  },
  {
   "cell_type": "code",
   "execution_count": 20,
   "id": "0e13b2c6",
   "metadata": {},
   "outputs": [
    {
     "name": "stdout",
     "output_type": "stream",
     "text": [
      "Epoch 1/100\n",
      "3/3 [==============================] - 2s 211ms/step - loss: 0.5739 - val_loss: 4.0759\n",
      "Epoch 2/100\n",
      "3/3 [==============================] - 0s 23ms/step - loss: 0.4740 - val_loss: 3.7336\n",
      "Epoch 3/100\n",
      "3/3 [==============================] - 0s 22ms/step - loss: 0.4182 - val_loss: 3.2994\n",
      "Epoch 4/100\n",
      "3/3 [==============================] - 0s 21ms/step - loss: 0.3394 - val_loss: 2.7062\n",
      "Epoch 5/100\n",
      "3/3 [==============================] - 0s 20ms/step - loss: 0.2795 - val_loss: 1.8849\n",
      "Epoch 6/100\n",
      "3/3 [==============================] - 0s 22ms/step - loss: 0.2315 - val_loss: 0.9363\n",
      "Epoch 7/100\n",
      "3/3 [==============================] - 0s 22ms/step - loss: 0.2123 - val_loss: 0.7378\n",
      "Epoch 8/100\n",
      "3/3 [==============================] - 0s 22ms/step - loss: 0.2211 - val_loss: 1.2749\n",
      "Epoch 9/100\n",
      "3/3 [==============================] - 0s 23ms/step - loss: 0.2091 - val_loss: 1.0783\n",
      "Epoch 10/100\n",
      "3/3 [==============================] - 0s 22ms/step - loss: 0.1747 - val_loss: 0.5974\n",
      "Epoch 11/100\n",
      "3/3 [==============================] - 0s 23ms/step - loss: 0.1470 - val_loss: 0.5723\n",
      "Epoch 12/100\n",
      "3/3 [==============================] - 0s 21ms/step - loss: 0.1536 - val_loss: 0.6521\n",
      "Epoch 13/100\n",
      "3/3 [==============================] - 0s 22ms/step - loss: 0.1354 - val_loss: 1.0837\n",
      "Epoch 14/100\n",
      "3/3 [==============================] - 0s 22ms/step - loss: 0.1651 - val_loss: 2.9911\n",
      "Epoch 15/100\n",
      "3/3 [==============================] - 0s 22ms/step - loss: 0.1681 - val_loss: 3.7831\n",
      "Epoch 16/100\n",
      "3/3 [==============================] - 0s 22ms/step - loss: 0.1542 - val_loss: 0.9637\n",
      "Epoch 17/100\n",
      "3/3 [==============================] - 0s 21ms/step - loss: 0.1736 - val_loss: 0.6113\n",
      "Epoch 18/100\n",
      "3/3 [==============================] - 0s 21ms/step - loss: 0.1970 - val_loss: 0.6054\n",
      "Epoch 19/100\n",
      "3/3 [==============================] - 0s 21ms/step - loss: 0.1515 - val_loss: 0.6239\n",
      "Epoch 20/100\n",
      "3/3 [==============================] - 0s 24ms/step - loss: 0.1456 - val_loss: 0.6641\n",
      "Epoch 21/100\n",
      "3/3 [==============================] - 0s 22ms/step - loss: 0.1636 - val_loss: 0.7620\n",
      "Epoch 22/100\n",
      "3/3 [==============================] - 0s 22ms/step - loss: 0.1556 - val_loss: 0.8936\n",
      "Epoch 23/100\n",
      "3/3 [==============================] - 0s 23ms/step - loss: 0.1682 - val_loss: 0.9041\n",
      "Epoch 24/100\n",
      "3/3 [==============================] - 0s 23ms/step - loss: 0.1773 - val_loss: 0.6819\n",
      "Epoch 25/100\n",
      "3/3 [==============================] - 0s 23ms/step - loss: 0.1530 - val_loss: 0.6943\n",
      "Epoch 26/100\n",
      "3/3 [==============================] - 0s 22ms/step - loss: 0.1642 - val_loss: 0.7262\n",
      "Epoch 27/100\n",
      "3/3 [==============================] - 0s 20ms/step - loss: 0.1517 - val_loss: 0.7303\n",
      "Epoch 28/100\n",
      "3/3 [==============================] - 0s 20ms/step - loss: 0.1512 - val_loss: 0.7304\n",
      "Epoch 29/100\n",
      "3/3 [==============================] - 0s 20ms/step - loss: 0.1415 - val_loss: 0.7538\n",
      "Epoch 30/100\n",
      "3/3 [==============================] - 0s 21ms/step - loss: 0.1455 - val_loss: 0.7764\n",
      "Epoch 31/100\n",
      "3/3 [==============================] - 0s 20ms/step - loss: 0.1617 - val_loss: 0.7968\n",
      "Epoch 32/100\n",
      "3/3 [==============================] - 0s 20ms/step - loss: 0.1401 - val_loss: 0.7695\n",
      "Epoch 33/100\n",
      "3/3 [==============================] - 0s 20ms/step - loss: 0.1389 - val_loss: 0.7945\n",
      "Epoch 34/100\n",
      "3/3 [==============================] - 0s 19ms/step - loss: 0.1378 - val_loss: 0.8058\n",
      "Epoch 35/100\n",
      "3/3 [==============================] - 0s 19ms/step - loss: 0.1436 - val_loss: 0.7902\n",
      "Epoch 36/100\n",
      "3/3 [==============================] - 0s 20ms/step - loss: 0.1236 - val_loss: 0.8099\n",
      "Epoch 37/100\n",
      "3/3 [==============================] - 0s 20ms/step - loss: 0.1430 - val_loss: 0.8826\n",
      "Epoch 38/100\n",
      "3/3 [==============================] - 0s 19ms/step - loss: 0.1747 - val_loss: 0.8843\n",
      "Epoch 39/100\n",
      "3/3 [==============================] - 0s 20ms/step - loss: 0.1267 - val_loss: 0.8270\n",
      "Epoch 40/100\n",
      "3/3 [==============================] - 0s 20ms/step - loss: 0.1409 - val_loss: 0.8627\n",
      "Epoch 41/100\n",
      "3/3 [==============================] - 0s 20ms/step - loss: 0.1469 - val_loss: 0.8372\n",
      "Epoch 42/100\n",
      "3/3 [==============================] - 0s 20ms/step - loss: 0.1265 - val_loss: 0.9402\n",
      "Epoch 43/100\n",
      "3/3 [==============================] - 0s 20ms/step - loss: 0.1681 - val_loss: 0.9989\n",
      "Epoch 44/100\n",
      "3/3 [==============================] - 0s 19ms/step - loss: 0.1422 - val_loss: 0.9834\n",
      "Epoch 45/100\n",
      "3/3 [==============================] - 0s 19ms/step - loss: 0.1256 - val_loss: 0.8815\n",
      "Epoch 46/100\n",
      "3/3 [==============================] - 0s 19ms/step - loss: 0.1374 - val_loss: 0.8804\n",
      "Epoch 47/100\n",
      "3/3 [==============================] - 0s 20ms/step - loss: 0.1264 - val_loss: 0.9561\n",
      "Epoch 48/100\n",
      "3/3 [==============================] - 0s 19ms/step - loss: 0.1413 - val_loss: 1.0806\n",
      "Epoch 49/100\n",
      "3/3 [==============================] - 0s 20ms/step - loss: 0.1443 - val_loss: 1.0862\n",
      "Epoch 50/100\n",
      "3/3 [==============================] - 0s 21ms/step - loss: 0.1306 - val_loss: 0.9761\n",
      "Epoch 51/100\n",
      "3/3 [==============================] - 0s 21ms/step - loss: 0.1240 - val_loss: 0.8896\n",
      "Epoch 52/100\n",
      "3/3 [==============================] - 0s 20ms/step - loss: 0.1345 - val_loss: 0.8942\n",
      "Epoch 53/100\n",
      "3/3 [==============================] - 0s 23ms/step - loss: 0.1602 - val_loss: 0.8724\n",
      "Epoch 54/100\n",
      "3/3 [==============================] - 0s 20ms/step - loss: 0.1220 - val_loss: 0.9413\n",
      "Epoch 55/100\n",
      "3/3 [==============================] - 0s 23ms/step - loss: 0.1168 - val_loss: 1.0490\n",
      "Epoch 56/100\n",
      "3/3 [==============================] - 0s 22ms/step - loss: 0.1135 - val_loss: 1.0680\n",
      "Epoch 57/100\n",
      "3/3 [==============================] - 0s 21ms/step - loss: 0.1460 - val_loss: 0.9182\n",
      "Epoch 58/100\n",
      "3/3 [==============================] - 0s 20ms/step - loss: 0.1374 - val_loss: 0.8523\n",
      "Epoch 59/100\n",
      "3/3 [==============================] - 0s 20ms/step - loss: 0.1324 - val_loss: 0.8447\n",
      "Epoch 60/100\n",
      "3/3 [==============================] - 0s 21ms/step - loss: 0.1483 - val_loss: 0.8623\n",
      "Epoch 61/100\n",
      "3/3 [==============================] - 0s 20ms/step - loss: 0.1417 - val_loss: 0.9128\n",
      "Epoch 62/100\n",
      "3/3 [==============================] - 0s 21ms/step - loss: 0.1380 - val_loss: 0.9615\n",
      "Epoch 63/100\n",
      "3/3 [==============================] - 0s 20ms/step - loss: 0.1278 - val_loss: 0.8781\n",
      "Epoch 64/100\n",
      "3/3 [==============================] - 0s 21ms/step - loss: 0.1244 - val_loss: 0.8425\n",
      "Epoch 65/100\n",
      "3/3 [==============================] - 0s 20ms/step - loss: 0.1435 - val_loss: 0.8509\n",
      "Epoch 66/100\n",
      "3/3 [==============================] - 0s 20ms/step - loss: 0.1375 - val_loss: 0.8447\n",
      "Epoch 67/100\n",
      "3/3 [==============================] - 0s 21ms/step - loss: 0.1103 - val_loss: 0.8433\n",
      "Epoch 68/100\n",
      "3/3 [==============================] - 0s 20ms/step - loss: 0.1297 - val_loss: 0.9206\n",
      "Epoch 69/100\n",
      "3/3 [==============================] - 0s 22ms/step - loss: 0.1141 - val_loss: 0.9688\n",
      "Epoch 70/100\n",
      "3/3 [==============================] - 0s 20ms/step - loss: 0.1365 - val_loss: 0.8926\n",
      "Epoch 71/100\n",
      "3/3 [==============================] - 0s 20ms/step - loss: 0.1209 - val_loss: 0.8715\n",
      "Epoch 72/100\n",
      "3/3 [==============================] - 0s 20ms/step - loss: 0.1044 - val_loss: 0.8953\n",
      "Epoch 73/100\n",
      "3/3 [==============================] - 0s 20ms/step - loss: 0.1289 - val_loss: 0.9586\n",
      "Epoch 74/100\n",
      "3/3 [==============================] - 0s 19ms/step - loss: 0.1214 - val_loss: 0.9325\n",
      "Epoch 75/100\n",
      "3/3 [==============================] - 0s 20ms/step - loss: 0.1501 - val_loss: 0.9046\n",
      "Epoch 76/100\n",
      "3/3 [==============================] - 0s 20ms/step - loss: 0.1214 - val_loss: 0.8988\n",
      "Epoch 77/100\n",
      "3/3 [==============================] - 0s 20ms/step - loss: 0.1332 - val_loss: 0.9113\n",
      "Epoch 78/100\n",
      "3/3 [==============================] - 0s 19ms/step - loss: 0.1150 - val_loss: 0.9939\n",
      "Epoch 79/100\n",
      "3/3 [==============================] - 0s 20ms/step - loss: 0.1247 - val_loss: 0.9859\n",
      "Epoch 80/100\n",
      "3/3 [==============================] - 0s 19ms/step - loss: 0.1213 - val_loss: 0.8673\n",
      "Epoch 81/100\n",
      "3/3 [==============================] - 0s 20ms/step - loss: 0.1213 - val_loss: 0.8821\n",
      "Epoch 82/100\n",
      "3/3 [==============================] - 0s 20ms/step - loss: 0.0916 - val_loss: 0.8907\n",
      "Epoch 83/100\n",
      "3/3 [==============================] - 0s 19ms/step - loss: 0.1172 - val_loss: 0.8690\n"
     ]
    },
    {
     "name": "stdout",
     "output_type": "stream",
     "text": [
      "Epoch 84/100\n",
      "3/3 [==============================] - 0s 20ms/step - loss: 0.1224 - val_loss: 0.8476\n",
      "Epoch 85/100\n",
      "3/3 [==============================] - 0s 19ms/step - loss: 0.1108 - val_loss: 0.8875\n",
      "Epoch 86/100\n",
      "3/3 [==============================] - 0s 20ms/step - loss: 0.1176 - val_loss: 0.9655\n",
      "Epoch 87/100\n",
      "3/3 [==============================] - 0s 20ms/step - loss: 0.1391 - val_loss: 0.8587\n",
      "Epoch 88/100\n",
      "3/3 [==============================] - 0s 20ms/step - loss: 0.1297 - val_loss: 0.7803\n",
      "Epoch 89/100\n",
      "3/3 [==============================] - 0s 20ms/step - loss: 0.1123 - val_loss: 0.8459\n",
      "Epoch 90/100\n",
      "3/3 [==============================] - 0s 20ms/step - loss: 0.1009 - val_loss: 0.8108\n",
      "Epoch 91/100\n",
      "3/3 [==============================] - 0s 19ms/step - loss: 0.1212 - val_loss: 0.9145\n",
      "Epoch 92/100\n",
      "3/3 [==============================] - 0s 20ms/step - loss: 0.1203 - val_loss: 0.9612\n",
      "Epoch 93/100\n",
      "3/3 [==============================] - 0s 20ms/step - loss: 0.1270 - val_loss: 0.8744\n",
      "Epoch 94/100\n",
      "3/3 [==============================] - 0s 19ms/step - loss: 0.1005 - val_loss: 0.8337\n",
      "Epoch 95/100\n",
      "3/3 [==============================] - 0s 20ms/step - loss: 0.1044 - val_loss: 0.8855\n",
      "Epoch 96/100\n",
      "3/3 [==============================] - 0s 21ms/step - loss: 0.1017 - val_loss: 0.8624\n",
      "Epoch 97/100\n",
      "3/3 [==============================] - 0s 20ms/step - loss: 0.1103 - val_loss: 0.8611\n",
      "Epoch 98/100\n",
      "3/3 [==============================] - 0s 21ms/step - loss: 0.1000 - val_loss: 0.9936\n",
      "Epoch 99/100\n",
      "3/3 [==============================] - 0s 20ms/step - loss: 0.1097 - val_loss: 1.0313\n",
      "Epoch 100/100\n",
      "3/3 [==============================] - 0s 21ms/step - loss: 0.1112 - val_loss: 0.9662\n"
     ]
    }
   ],
   "source": [
    "history = model.fit(trainX, trainY, epochs=100, batch_size=16, validation_split=0.1, verbose=1)"
   ]
  },
  {
   "cell_type": "markdown",
   "id": "80c518f1",
   "metadata": {},
   "source": [
    "### Plot the Trainig and Validation Loss"
   ]
  },
  {
   "cell_type": "code",
   "execution_count": 21,
   "id": "3a647abd",
   "metadata": {},
   "outputs": [
    {
     "data": {
      "text/plain": [
       "<matplotlib.legend.Legend at 0x26c8a33b790>"
      ]
     },
     "execution_count": 21,
     "metadata": {},
     "output_type": "execute_result"
    },
    {
     "data": {
      "image/png": "[encoded data removed]",
      "text/plain": [
       "<Figure size 640x480 with 1 Axes>"
      ]
     },
     "metadata": {},
     "output_type": "display_data"
    }
   ],
   "source": [
    "plt.plot(history.history['loss'], label='Training loss')\n",
    "plt.plot(history.history['val_loss'], label='Validation loss')\n",
    "plt.legend()"
   ]
  },
  {
   "cell_type": "markdown",
   "id": "8cd7feb9",
   "metadata": {},
   "source": [
    "### Make Prediction"
   ]
  },
  {
   "cell_type": "code",
   "execution_count": 22,
   "id": "bc226246",
   "metadata": {},
   "outputs": [
    {
     "name": "stdout",
     "output_type": "stream",
     "text": [
      "1/1 [==============================] - 0s 259ms/step\n"
     ]
    }
   ],
   "source": [
    "n_months_for_prediction=15 \n",
    "prediction = model.predict(trainX[-n_months_for_prediction:])"
   ]
  },
  {
   "cell_type": "code",
   "execution_count": 23,
   "id": "9085e24b",
   "metadata": {},
   "outputs": [],
   "source": [
    "prediction_copies = np.repeat(prediction, df_for_training.shape[1], axis=-1)\n",
    "y_pred_future = scaler.inverse_transform(prediction_copies)[:,0]"
   ]
  },
  {
   "cell_type": "code",
   "execution_count": 24,
   "id": "dae0cee2",
   "metadata": {},
   "outputs": [
    {
     "data": {
      "text/plain": [
       "array([-0.45905942, -0.6796175 , -1.0074384 , -1.575701  , -1.9051237 ,\n",
       "       -2.1120224 , -2.2237034 , -2.3569536 , -2.580905  , -2.6609051 ,\n",
       "       -2.8521454 , -3.0210574 , -3.059438  , -2.6445093 , -2.2178214 ],\n",
       "      dtype=float32)"
      ]
     },
     "execution_count": 24,
     "metadata": {},
     "output_type": "execute_result"
    }
   ],
   "source": [
    "y_pred_future"
   ]
  },
  {
   "cell_type": "code",
   "execution_count": 25,
   "id": "4f01afc8",
   "metadata": {},
   "outputs": [],
   "source": [
    "df_test = df_for_training[48:]"
   ]
  },
  {
   "cell_type": "markdown",
   "id": "f1f707d5",
   "metadata": {},
   "source": [
    "### Inverse transform the predicted values to get them back to their original scale"
   ]
  },
  {
   "cell_type": "code",
   "execution_count": 26,
   "id": "f7a4ab3d",
   "metadata": {},
   "outputs": [],
   "source": [
    "df_forecast = pd.DataFrame({'Date':df_test.index, 'Orders': df_test['Orders'], 'Orders_Predicted':y_pred_future})\n",
    "df_forecast['Date']=pd.to_datetime(df_forecast['Date'])\n",
    "df_forecast = df_forecast.reset_index(drop=True)\n",
    "df_forecast.set_index('Date', inplace=True)"
   ]
  },
  {
   "cell_type": "code",
   "execution_count": 27,
   "id": "04a6467d",
   "metadata": {},
   "outputs": [
    {
     "data": {
      "text/html": [
       "<div>\n",
       "<style scoped>\n",
       "    .dataframe tbody tr th:only-of-type {\n",
       "        vertical-align: middle;\n",
       "    }\n",
       "\n",
       "    .dataframe tbody tr th {\n",
       "        vertical-align: top;\n",
       "    }\n",
       "\n",
       "    .dataframe thead th {\n",
       "        text-align: right;\n",
       "    }\n",
       "</style>\n",
       "<table border=\"1\" class=\"dataframe\">\n",
       "  <thead>\n",
       "    <tr style=\"text-align: right;\">\n",
       "      <th></th>\n",
       "      <th>Orders</th>\n",
       "      <th>Orders_Predicted</th>\n",
       "    </tr>\n",
       "    <tr>\n",
       "      <th>Date</th>\n",
       "      <th></th>\n",
       "      <th></th>\n",
       "    </tr>\n",
       "  </thead>\n",
       "  <tbody>\n",
       "    <tr>\n",
       "      <th>2022-01-01</th>\n",
       "      <td>-0.239672</td>\n",
       "      <td>-0.459059</td>\n",
       "    </tr>\n",
       "    <tr>\n",
       "      <th>2022-02-01</th>\n",
       "      <td>-1.385019</td>\n",
       "      <td>-0.679618</td>\n",
       "    </tr>\n",
       "    <tr>\n",
       "      <th>2022-03-01</th>\n",
       "      <td>0.322190</td>\n",
       "      <td>-1.007438</td>\n",
       "    </tr>\n",
       "    <tr>\n",
       "      <th>2022-04-01</th>\n",
       "      <td>-2.456404</td>\n",
       "      <td>-1.575701</td>\n",
       "    </tr>\n",
       "    <tr>\n",
       "      <th>2022-05-01</th>\n",
       "      <td>-2.613226</td>\n",
       "      <td>-1.905124</td>\n",
       "    </tr>\n",
       "    <tr>\n",
       "      <th>2022-06-01</th>\n",
       "      <td>-1.928286</td>\n",
       "      <td>-2.112022</td>\n",
       "    </tr>\n",
       "    <tr>\n",
       "      <th>2022-07-01</th>\n",
       "      <td>-2.824245</td>\n",
       "      <td>-2.223703</td>\n",
       "    </tr>\n",
       "    <tr>\n",
       "      <th>2022-08-01</th>\n",
       "      <td>-2.472453</td>\n",
       "      <td>-2.356954</td>\n",
       "    </tr>\n",
       "    <tr>\n",
       "      <th>2022-09-01</th>\n",
       "      <td>-2.866090</td>\n",
       "      <td>-2.580905</td>\n",
       "    </tr>\n",
       "    <tr>\n",
       "      <th>2022-10-01</th>\n",
       "      <td>-3.383498</td>\n",
       "      <td>-2.660905</td>\n",
       "    </tr>\n",
       "    <tr>\n",
       "      <th>2022-11-01</th>\n",
       "      <td>-1.708950</td>\n",
       "      <td>-2.852145</td>\n",
       "    </tr>\n",
       "    <tr>\n",
       "      <th>2022-12-01</th>\n",
       "      <td>-2.296390</td>\n",
       "      <td>-3.021057</td>\n",
       "    </tr>\n",
       "    <tr>\n",
       "      <th>2023-01-01</th>\n",
       "      <td>-4.244587</td>\n",
       "      <td>-3.059438</td>\n",
       "    </tr>\n",
       "    <tr>\n",
       "      <th>2023-02-01</th>\n",
       "      <td>-3.184111</td>\n",
       "      <td>-2.644509</td>\n",
       "    </tr>\n",
       "    <tr>\n",
       "      <th>2023-03-01</th>\n",
       "      <td>-5.911701</td>\n",
       "      <td>-2.217821</td>\n",
       "    </tr>\n",
       "  </tbody>\n",
       "</table>\n",
       "</div>"
      ],
      "text/plain": [
       "              Orders  Orders_Predicted\n",
       "Date                                  \n",
       "2022-01-01 -0.239672         -0.459059\n",
       "2022-02-01 -1.385019         -0.679618\n",
       "2022-03-01  0.322190         -1.007438\n",
       "2022-04-01 -2.456404         -1.575701\n",
       "2022-05-01 -2.613226         -1.905124\n",
       "2022-06-01 -1.928286         -2.112022\n",
       "2022-07-01 -2.824245         -2.223703\n",
       "2022-08-01 -2.472453         -2.356954\n",
       "2022-09-01 -2.866090         -2.580905\n",
       "2022-10-01 -3.383498         -2.660905\n",
       "2022-11-01 -1.708950         -2.852145\n",
       "2022-12-01 -2.296390         -3.021057\n",
       "2023-01-01 -4.244587         -3.059438\n",
       "2023-02-01 -3.184111         -2.644509\n",
       "2023-03-01 -5.911701         -2.217821"
      ]
     },
     "execution_count": 27,
     "metadata": {},
     "output_type": "execute_result"
    }
   ],
   "source": [
    "df_forecast"
   ]
  },
  {
   "cell_type": "code",
   "execution_count": 33,
   "id": "793fdbf9",
   "metadata": {},
   "outputs": [
    {
     "data": {
      "text/plain": [
       "Date\n",
       "2023-01-01   -3.059438\n",
       "2023-02-01   -2.644509\n",
       "2023-03-01   -2.217821\n",
       "Name: Orders_Predicted, dtype: float32"
      ]
     },
     "execution_count": 33,
     "metadata": {},
     "output_type": "execute_result"
    }
   ],
   "source": [
    "df_forecast['Orders_Predicted'].tail(3)"
   ]
  },
  {
   "cell_type": "code",
   "execution_count": 28,
   "id": "f58bc732",
   "metadata": {},
   "outputs": [],
   "source": [
    "df_forecast1 = df_forecast[:12]\n",
    "df_future = df_forecast[-3:]\n",
    "train = df_for_training[:60]\n",
    "df_test1 = df_test[:12]"
   ]
  },
  {
   "cell_type": "code",
   "execution_count": 29,
   "id": "bbb9394a",
   "metadata": {},
   "outputs": [],
   "source": [
    "y_test = df_forecast['Orders'].to_numpy()"
   ]
  },
  {
   "cell_type": "markdown",
   "id": "057c9782",
   "metadata": {},
   "source": [
    "### Plot Results"
   ]
  },
  {
   "cell_type": "code",
   "execution_count": 30,
   "id": "cb1392cd",
   "metadata": {},
   "outputs": [
    {
     "data": {
      "image/png": "[encoded data removed]",
      "text/plain": [
       "<Figure size 1000x500 with 1 Axes>"
      ]
     },
     "metadata": {},
     "output_type": "display_data"
    }
   ],
   "source": [
    "plt.rcParams[\"figure.figsize\"] = [10,5]\n",
    "plt.plot(train['Orders'], label='Train Orders')\n",
    "plt.plot(df_test1['Orders'], label='Test Orders')\n",
    "plt.plot(df_forecast1['Orders_Predicted'], label='Predicted Orders')\n",
    "plt.plot(df_future['Orders_Predicted'], label='Future Prediction')\n",
    "plt.legend(loc='best')\n",
    "plt.show()"
   ]
  },
  {
   "cell_type": "markdown",
   "id": "cb5188bd",
   "metadata": {},
   "source": [
    "### Evaluate the Model"
   ]
  },
  {
   "cell_type": "code",
   "execution_count": 57,
   "id": "9349dbc0",
   "metadata": {},
   "outputs": [
    {
     "name": "stdout",
     "output_type": "stream",
     "text": [
      "Metric Results: \n",
      "MSE is : 0.99\n",
      "MAE is : 0.72\n",
      "RMSE is : 0.99\n",
      "MAPE is : 50.45\n",
      "R2 is : 1.0\n",
      "\n"
     ]
    }
   ],
   "source": [
    "timeseries_evaluation_metrics_func(y_test, y_pred_future)"
   ]
  },
  {
   "cell_type": "code",
   "execution_count": null,
   "id": "17b215c2",
   "metadata": {},
   "outputs": [],
   "source": []
  }
 ],
 "metadata": {
  "kernelspec": {
   "display_name": "Python 3 (ipykernel)",
   "language": "python",
   "name": "python3"
  },
  "language_info": {
   "codemirror_mode": {
    "name": "ipython",
    "version": 3
   },
   "file_extension": ".py",
   "mimetype": "text/x-python",
   "name": "python",
   "nbconvert_exporter": "python",
   "pygments_lexer": "ipython3",
   "version": "3.10.9"
  }
 },
 "nbformat": 4,
 "nbformat_minor": 5
}
